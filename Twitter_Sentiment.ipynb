{
  "nbformat": 4,
  "nbformat_minor": 0,
  "metadata": {
    "colab": {
      "name": "Twitter Sentiment.ipynb",
      "provenance": [],
      "authorship_tag": "ABX9TyMhzg6VgaYvX4CUXDlCKPnd",
      "include_colab_link": true
    },
    "kernelspec": {
      "name": "python3",
      "display_name": "Python 3"
    },
    "accelerator": "GPU",
    "widgets": {
      "application/vnd.jupyter.widget-state+json": {
        "18edffa9c78442c3abdcf635d00b5715": {
          "model_module": "@jupyter-widgets/controls",
          "model_name": "HBoxModel",
          "state": {
            "_view_name": "HBoxView",
            "_dom_classes": [],
            "_model_name": "HBoxModel",
            "_view_module": "@jupyter-widgets/controls",
            "_model_module_version": "1.5.0",
            "_view_count": null,
            "_view_module_version": "1.5.0",
            "box_style": "",
            "layout": "IPY_MODEL_52755c34ca8942d3b6c0692b9392c807",
            "_model_module": "@jupyter-widgets/controls",
            "children": [
              "IPY_MODEL_bfc316fafbf048b49ecdf30ee589c15d",
              "IPY_MODEL_bca07ddaf67341e3bcc5a05dadc7717c"
            ]
          }
        },
        "52755c34ca8942d3b6c0692b9392c807": {
          "model_module": "@jupyter-widgets/base",
          "model_name": "LayoutModel",
          "state": {
            "_view_name": "LayoutView",
            "grid_template_rows": null,
            "right": null,
            "justify_content": null,
            "_view_module": "@jupyter-widgets/base",
            "overflow": null,
            "_model_module_version": "1.2.0",
            "_view_count": null,
            "flex_flow": null,
            "width": null,
            "min_width": null,
            "border": null,
            "align_items": null,
            "bottom": null,
            "_model_module": "@jupyter-widgets/base",
            "top": null,
            "grid_column": null,
            "overflow_y": null,
            "overflow_x": null,
            "grid_auto_flow": null,
            "grid_area": null,
            "grid_template_columns": null,
            "flex": null,
            "_model_name": "LayoutModel",
            "justify_items": null,
            "grid_row": null,
            "max_height": null,
            "align_content": null,
            "visibility": null,
            "align_self": null,
            "height": null,
            "min_height": null,
            "padding": null,
            "grid_auto_rows": null,
            "grid_gap": null,
            "max_width": null,
            "order": null,
            "_view_module_version": "1.2.0",
            "grid_template_areas": null,
            "object_position": null,
            "object_fit": null,
            "grid_auto_columns": null,
            "margin": null,
            "display": null,
            "left": null
          }
        },
        "bfc316fafbf048b49ecdf30ee589c15d": {
          "model_module": "@jupyter-widgets/controls",
          "model_name": "FloatProgressModel",
          "state": {
            "_view_name": "ProgressView",
            "style": "IPY_MODEL_e7df93bf6e104ea0b0c88dce9ee21fac",
            "_dom_classes": [],
            "description": "Downloading: 100%",
            "_model_name": "FloatProgressModel",
            "bar_style": "success",
            "max": 231508,
            "_view_module": "@jupyter-widgets/controls",
            "_model_module_version": "1.5.0",
            "value": 231508,
            "_view_count": null,
            "_view_module_version": "1.5.0",
            "orientation": "horizontal",
            "min": 0,
            "description_tooltip": null,
            "_model_module": "@jupyter-widgets/controls",
            "layout": "IPY_MODEL_d521c3769d4b46b3be833e8635d5ad6c"
          }
        },
        "bca07ddaf67341e3bcc5a05dadc7717c": {
          "model_module": "@jupyter-widgets/controls",
          "model_name": "HTMLModel",
          "state": {
            "_view_name": "HTMLView",
            "style": "IPY_MODEL_04cc4884bf68456ea69144e9fab14a47",
            "_dom_classes": [],
            "description": "",
            "_model_name": "HTMLModel",
            "placeholder": "​",
            "_view_module": "@jupyter-widgets/controls",
            "_model_module_version": "1.5.0",
            "value": " 232k/232k [00:00&lt;00:00, 3.34MB/s]",
            "_view_count": null,
            "_view_module_version": "1.5.0",
            "description_tooltip": null,
            "_model_module": "@jupyter-widgets/controls",
            "layout": "IPY_MODEL_40dfef11b6014868bd58bc61d2442239"
          }
        },
        "e7df93bf6e104ea0b0c88dce9ee21fac": {
          "model_module": "@jupyter-widgets/controls",
          "model_name": "ProgressStyleModel",
          "state": {
            "_view_name": "StyleView",
            "_model_name": "ProgressStyleModel",
            "description_width": "initial",
            "_view_module": "@jupyter-widgets/base",
            "_model_module_version": "1.5.0",
            "_view_count": null,
            "_view_module_version": "1.2.0",
            "bar_color": null,
            "_model_module": "@jupyter-widgets/controls"
          }
        },
        "d521c3769d4b46b3be833e8635d5ad6c": {
          "model_module": "@jupyter-widgets/base",
          "model_name": "LayoutModel",
          "state": {
            "_view_name": "LayoutView",
            "grid_template_rows": null,
            "right": null,
            "justify_content": null,
            "_view_module": "@jupyter-widgets/base",
            "overflow": null,
            "_model_module_version": "1.2.0",
            "_view_count": null,
            "flex_flow": null,
            "width": null,
            "min_width": null,
            "border": null,
            "align_items": null,
            "bottom": null,
            "_model_module": "@jupyter-widgets/base",
            "top": null,
            "grid_column": null,
            "overflow_y": null,
            "overflow_x": null,
            "grid_auto_flow": null,
            "grid_area": null,
            "grid_template_columns": null,
            "flex": null,
            "_model_name": "LayoutModel",
            "justify_items": null,
            "grid_row": null,
            "max_height": null,
            "align_content": null,
            "visibility": null,
            "align_self": null,
            "height": null,
            "min_height": null,
            "padding": null,
            "grid_auto_rows": null,
            "grid_gap": null,
            "max_width": null,
            "order": null,
            "_view_module_version": "1.2.0",
            "grid_template_areas": null,
            "object_position": null,
            "object_fit": null,
            "grid_auto_columns": null,
            "margin": null,
            "display": null,
            "left": null
          }
        },
        "04cc4884bf68456ea69144e9fab14a47": {
          "model_module": "@jupyter-widgets/controls",
          "model_name": "DescriptionStyleModel",
          "state": {
            "_view_name": "StyleView",
            "_model_name": "DescriptionStyleModel",
            "description_width": "",
            "_view_module": "@jupyter-widgets/base",
            "_model_module_version": "1.5.0",
            "_view_count": null,
            "_view_module_version": "1.2.0",
            "_model_module": "@jupyter-widgets/controls"
          }
        },
        "40dfef11b6014868bd58bc61d2442239": {
          "model_module": "@jupyter-widgets/base",
          "model_name": "LayoutModel",
          "state": {
            "_view_name": "LayoutView",
            "grid_template_rows": null,
            "right": null,
            "justify_content": null,
            "_view_module": "@jupyter-widgets/base",
            "overflow": null,
            "_model_module_version": "1.2.0",
            "_view_count": null,
            "flex_flow": null,
            "width": null,
            "min_width": null,
            "border": null,
            "align_items": null,
            "bottom": null,
            "_model_module": "@jupyter-widgets/base",
            "top": null,
            "grid_column": null,
            "overflow_y": null,
            "overflow_x": null,
            "grid_auto_flow": null,
            "grid_area": null,
            "grid_template_columns": null,
            "flex": null,
            "_model_name": "LayoutModel",
            "justify_items": null,
            "grid_row": null,
            "max_height": null,
            "align_content": null,
            "visibility": null,
            "align_self": null,
            "height": null,
            "min_height": null,
            "padding": null,
            "grid_auto_rows": null,
            "grid_gap": null,
            "max_width": null,
            "order": null,
            "_view_module_version": "1.2.0",
            "grid_template_areas": null,
            "object_position": null,
            "object_fit": null,
            "grid_auto_columns": null,
            "margin": null,
            "display": null,
            "left": null
          }
        },
        "bb219ab9e9ea4949bd90ed4682ee8cad": {
          "model_module": "@jupyter-widgets/controls",
          "model_name": "HBoxModel",
          "state": {
            "_view_name": "HBoxView",
            "_dom_classes": [],
            "_model_name": "HBoxModel",
            "_view_module": "@jupyter-widgets/controls",
            "_model_module_version": "1.5.0",
            "_view_count": null,
            "_view_module_version": "1.5.0",
            "box_style": "",
            "layout": "IPY_MODEL_dfaf9659c0984c6e98beb35fcaca37f7",
            "_model_module": "@jupyter-widgets/controls",
            "children": [
              "IPY_MODEL_6c22551a80c94c209da941e37b5b8437",
              "IPY_MODEL_8f1327889c7d46c2848b9be5c4b6744f"
            ]
          }
        },
        "dfaf9659c0984c6e98beb35fcaca37f7": {
          "model_module": "@jupyter-widgets/base",
          "model_name": "LayoutModel",
          "state": {
            "_view_name": "LayoutView",
            "grid_template_rows": null,
            "right": null,
            "justify_content": null,
            "_view_module": "@jupyter-widgets/base",
            "overflow": null,
            "_model_module_version": "1.2.0",
            "_view_count": null,
            "flex_flow": null,
            "width": null,
            "min_width": null,
            "border": null,
            "align_items": null,
            "bottom": null,
            "_model_module": "@jupyter-widgets/base",
            "top": null,
            "grid_column": null,
            "overflow_y": null,
            "overflow_x": null,
            "grid_auto_flow": null,
            "grid_area": null,
            "grid_template_columns": null,
            "flex": null,
            "_model_name": "LayoutModel",
            "justify_items": null,
            "grid_row": null,
            "max_height": null,
            "align_content": null,
            "visibility": null,
            "align_self": null,
            "height": null,
            "min_height": null,
            "padding": null,
            "grid_auto_rows": null,
            "grid_gap": null,
            "max_width": null,
            "order": null,
            "_view_module_version": "1.2.0",
            "grid_template_areas": null,
            "object_position": null,
            "object_fit": null,
            "grid_auto_columns": null,
            "margin": null,
            "display": null,
            "left": null
          }
        },
        "6c22551a80c94c209da941e37b5b8437": {
          "model_module": "@jupyter-widgets/controls",
          "model_name": "FloatProgressModel",
          "state": {
            "_view_name": "ProgressView",
            "style": "IPY_MODEL_d94aa8d3c26241249051305a652d1222",
            "_dom_classes": [],
            "description": "Downloading: 100%",
            "_model_name": "FloatProgressModel",
            "bar_style": "success",
            "max": 433,
            "_view_module": "@jupyter-widgets/controls",
            "_model_module_version": "1.5.0",
            "value": 433,
            "_view_count": null,
            "_view_module_version": "1.5.0",
            "orientation": "horizontal",
            "min": 0,
            "description_tooltip": null,
            "_model_module": "@jupyter-widgets/controls",
            "layout": "IPY_MODEL_af966750612b499dbb46ab6f21a28102"
          }
        },
        "8f1327889c7d46c2848b9be5c4b6744f": {
          "model_module": "@jupyter-widgets/controls",
          "model_name": "HTMLModel",
          "state": {
            "_view_name": "HTMLView",
            "style": "IPY_MODEL_207ab7fabf3a48f5979506cc14a17543",
            "_dom_classes": [],
            "description": "",
            "_model_name": "HTMLModel",
            "placeholder": "​",
            "_view_module": "@jupyter-widgets/controls",
            "_model_module_version": "1.5.0",
            "value": " 433/433 [00:00&lt;00:00, 2.49kB/s]",
            "_view_count": null,
            "_view_module_version": "1.5.0",
            "description_tooltip": null,
            "_model_module": "@jupyter-widgets/controls",
            "layout": "IPY_MODEL_f2d96194481044c4b6ebe7d1cd6f0992"
          }
        },
        "d94aa8d3c26241249051305a652d1222": {
          "model_module": "@jupyter-widgets/controls",
          "model_name": "ProgressStyleModel",
          "state": {
            "_view_name": "StyleView",
            "_model_name": "ProgressStyleModel",
            "description_width": "initial",
            "_view_module": "@jupyter-widgets/base",
            "_model_module_version": "1.5.0",
            "_view_count": null,
            "_view_module_version": "1.2.0",
            "bar_color": null,
            "_model_module": "@jupyter-widgets/controls"
          }
        },
        "af966750612b499dbb46ab6f21a28102": {
          "model_module": "@jupyter-widgets/base",
          "model_name": "LayoutModel",
          "state": {
            "_view_name": "LayoutView",
            "grid_template_rows": null,
            "right": null,
            "justify_content": null,
            "_view_module": "@jupyter-widgets/base",
            "overflow": null,
            "_model_module_version": "1.2.0",
            "_view_count": null,
            "flex_flow": null,
            "width": null,
            "min_width": null,
            "border": null,
            "align_items": null,
            "bottom": null,
            "_model_module": "@jupyter-widgets/base",
            "top": null,
            "grid_column": null,
            "overflow_y": null,
            "overflow_x": null,
            "grid_auto_flow": null,
            "grid_area": null,
            "grid_template_columns": null,
            "flex": null,
            "_model_name": "LayoutModel",
            "justify_items": null,
            "grid_row": null,
            "max_height": null,
            "align_content": null,
            "visibility": null,
            "align_self": null,
            "height": null,
            "min_height": null,
            "padding": null,
            "grid_auto_rows": null,
            "grid_gap": null,
            "max_width": null,
            "order": null,
            "_view_module_version": "1.2.0",
            "grid_template_areas": null,
            "object_position": null,
            "object_fit": null,
            "grid_auto_columns": null,
            "margin": null,
            "display": null,
            "left": null
          }
        },
        "207ab7fabf3a48f5979506cc14a17543": {
          "model_module": "@jupyter-widgets/controls",
          "model_name": "DescriptionStyleModel",
          "state": {
            "_view_name": "StyleView",
            "_model_name": "DescriptionStyleModel",
            "description_width": "",
            "_view_module": "@jupyter-widgets/base",
            "_model_module_version": "1.5.0",
            "_view_count": null,
            "_view_module_version": "1.2.0",
            "_model_module": "@jupyter-widgets/controls"
          }
        },
        "f2d96194481044c4b6ebe7d1cd6f0992": {
          "model_module": "@jupyter-widgets/base",
          "model_name": "LayoutModel",
          "state": {
            "_view_name": "LayoutView",
            "grid_template_rows": null,
            "right": null,
            "justify_content": null,
            "_view_module": "@jupyter-widgets/base",
            "overflow": null,
            "_model_module_version": "1.2.0",
            "_view_count": null,
            "flex_flow": null,
            "width": null,
            "min_width": null,
            "border": null,
            "align_items": null,
            "bottom": null,
            "_model_module": "@jupyter-widgets/base",
            "top": null,
            "grid_column": null,
            "overflow_y": null,
            "overflow_x": null,
            "grid_auto_flow": null,
            "grid_area": null,
            "grid_template_columns": null,
            "flex": null,
            "_model_name": "LayoutModel",
            "justify_items": null,
            "grid_row": null,
            "max_height": null,
            "align_content": null,
            "visibility": null,
            "align_self": null,
            "height": null,
            "min_height": null,
            "padding": null,
            "grid_auto_rows": null,
            "grid_gap": null,
            "max_width": null,
            "order": null,
            "_view_module_version": "1.2.0",
            "grid_template_areas": null,
            "object_position": null,
            "object_fit": null,
            "grid_auto_columns": null,
            "margin": null,
            "display": null,
            "left": null
          }
        },
        "92e1c4f373da47e198c8ddb8267ff53c": {
          "model_module": "@jupyter-widgets/controls",
          "model_name": "HBoxModel",
          "state": {
            "_view_name": "HBoxView",
            "_dom_classes": [],
            "_model_name": "HBoxModel",
            "_view_module": "@jupyter-widgets/controls",
            "_model_module_version": "1.5.0",
            "_view_count": null,
            "_view_module_version": "1.5.0",
            "box_style": "",
            "layout": "IPY_MODEL_7dd6af0bb11d46d680c269962b470768",
            "_model_module": "@jupyter-widgets/controls",
            "children": [
              "IPY_MODEL_83554b3343c34c54919f9293d1867b26",
              "IPY_MODEL_873b854431544c86942d502fd51534dd"
            ]
          }
        },
        "7dd6af0bb11d46d680c269962b470768": {
          "model_module": "@jupyter-widgets/base",
          "model_name": "LayoutModel",
          "state": {
            "_view_name": "LayoutView",
            "grid_template_rows": null,
            "right": null,
            "justify_content": null,
            "_view_module": "@jupyter-widgets/base",
            "overflow": null,
            "_model_module_version": "1.2.0",
            "_view_count": null,
            "flex_flow": null,
            "width": null,
            "min_width": null,
            "border": null,
            "align_items": null,
            "bottom": null,
            "_model_module": "@jupyter-widgets/base",
            "top": null,
            "grid_column": null,
            "overflow_y": null,
            "overflow_x": null,
            "grid_auto_flow": null,
            "grid_area": null,
            "grid_template_columns": null,
            "flex": null,
            "_model_name": "LayoutModel",
            "justify_items": null,
            "grid_row": null,
            "max_height": null,
            "align_content": null,
            "visibility": null,
            "align_self": null,
            "height": null,
            "min_height": null,
            "padding": null,
            "grid_auto_rows": null,
            "grid_gap": null,
            "max_width": null,
            "order": null,
            "_view_module_version": "1.2.0",
            "grid_template_areas": null,
            "object_position": null,
            "object_fit": null,
            "grid_auto_columns": null,
            "margin": null,
            "display": null,
            "left": null
          }
        },
        "83554b3343c34c54919f9293d1867b26": {
          "model_module": "@jupyter-widgets/controls",
          "model_name": "FloatProgressModel",
          "state": {
            "_view_name": "ProgressView",
            "style": "IPY_MODEL_535c80c478104f6081444b5e945ef4cd",
            "_dom_classes": [],
            "description": "Downloading: 100%",
            "_model_name": "FloatProgressModel",
            "bar_style": "success",
            "max": 440473133,
            "_view_module": "@jupyter-widgets/controls",
            "_model_module_version": "1.5.0",
            "value": 440473133,
            "_view_count": null,
            "_view_module_version": "1.5.0",
            "orientation": "horizontal",
            "min": 0,
            "description_tooltip": null,
            "_model_module": "@jupyter-widgets/controls",
            "layout": "IPY_MODEL_0a292c79ccf64e738ad5844e6601914d"
          }
        },
        "873b854431544c86942d502fd51534dd": {
          "model_module": "@jupyter-widgets/controls",
          "model_name": "HTMLModel",
          "state": {
            "_view_name": "HTMLView",
            "style": "IPY_MODEL_53740c8cf27a4c1283b18a573ce796b9",
            "_dom_classes": [],
            "description": "",
            "_model_name": "HTMLModel",
            "placeholder": "​",
            "_view_module": "@jupyter-widgets/controls",
            "_model_module_version": "1.5.0",
            "value": " 440M/440M [00:29&lt;00:00, 14.7MB/s]",
            "_view_count": null,
            "_view_module_version": "1.5.0",
            "description_tooltip": null,
            "_model_module": "@jupyter-widgets/controls",
            "layout": "IPY_MODEL_018c7a8f3a5842f0be110f0ca456f213"
          }
        },
        "535c80c478104f6081444b5e945ef4cd": {
          "model_module": "@jupyter-widgets/controls",
          "model_name": "ProgressStyleModel",
          "state": {
            "_view_name": "StyleView",
            "_model_name": "ProgressStyleModel",
            "description_width": "initial",
            "_view_module": "@jupyter-widgets/base",
            "_model_module_version": "1.5.0",
            "_view_count": null,
            "_view_module_version": "1.2.0",
            "bar_color": null,
            "_model_module": "@jupyter-widgets/controls"
          }
        },
        "0a292c79ccf64e738ad5844e6601914d": {
          "model_module": "@jupyter-widgets/base",
          "model_name": "LayoutModel",
          "state": {
            "_view_name": "LayoutView",
            "grid_template_rows": null,
            "right": null,
            "justify_content": null,
            "_view_module": "@jupyter-widgets/base",
            "overflow": null,
            "_model_module_version": "1.2.0",
            "_view_count": null,
            "flex_flow": null,
            "width": null,
            "min_width": null,
            "border": null,
            "align_items": null,
            "bottom": null,
            "_model_module": "@jupyter-widgets/base",
            "top": null,
            "grid_column": null,
            "overflow_y": null,
            "overflow_x": null,
            "grid_auto_flow": null,
            "grid_area": null,
            "grid_template_columns": null,
            "flex": null,
            "_model_name": "LayoutModel",
            "justify_items": null,
            "grid_row": null,
            "max_height": null,
            "align_content": null,
            "visibility": null,
            "align_self": null,
            "height": null,
            "min_height": null,
            "padding": null,
            "grid_auto_rows": null,
            "grid_gap": null,
            "max_width": null,
            "order": null,
            "_view_module_version": "1.2.0",
            "grid_template_areas": null,
            "object_position": null,
            "object_fit": null,
            "grid_auto_columns": null,
            "margin": null,
            "display": null,
            "left": null
          }
        },
        "53740c8cf27a4c1283b18a573ce796b9": {
          "model_module": "@jupyter-widgets/controls",
          "model_name": "DescriptionStyleModel",
          "state": {
            "_view_name": "StyleView",
            "_model_name": "DescriptionStyleModel",
            "description_width": "",
            "_view_module": "@jupyter-widgets/base",
            "_model_module_version": "1.5.0",
            "_view_count": null,
            "_view_module_version": "1.2.0",
            "_model_module": "@jupyter-widgets/controls"
          }
        },
        "018c7a8f3a5842f0be110f0ca456f213": {
          "model_module": "@jupyter-widgets/base",
          "model_name": "LayoutModel",
          "state": {
            "_view_name": "LayoutView",
            "grid_template_rows": null,
            "right": null,
            "justify_content": null,
            "_view_module": "@jupyter-widgets/base",
            "overflow": null,
            "_model_module_version": "1.2.0",
            "_view_count": null,
            "flex_flow": null,
            "width": null,
            "min_width": null,
            "border": null,
            "align_items": null,
            "bottom": null,
            "_model_module": "@jupyter-widgets/base",
            "top": null,
            "grid_column": null,
            "overflow_y": null,
            "overflow_x": null,
            "grid_auto_flow": null,
            "grid_area": null,
            "grid_template_columns": null,
            "flex": null,
            "_model_name": "LayoutModel",
            "justify_items": null,
            "grid_row": null,
            "max_height": null,
            "align_content": null,
            "visibility": null,
            "align_self": null,
            "height": null,
            "min_height": null,
            "padding": null,
            "grid_auto_rows": null,
            "grid_gap": null,
            "max_width": null,
            "order": null,
            "_view_module_version": "1.2.0",
            "grid_template_areas": null,
            "object_position": null,
            "object_fit": null,
            "grid_auto_columns": null,
            "margin": null,
            "display": null,
            "left": null
          }
        }
      }
    }
  },
  "cells": [
    {
      "cell_type": "markdown",
      "metadata": {
        "id": "view-in-github",
        "colab_type": "text"
      },
      "source": [
        "<a href=\"https://colab.research.google.com/github/Satyam-kumar-yadav/TwitterSentiment_Bert_Model/blob/main/Twitter_Sentiment.ipynb\" target=\"_parent\"><img src=\"https://colab.research.google.com/assets/colab-badge.svg\" alt=\"Open In Colab\"/></a>"
      ]
    },
    {
      "cell_type": "code",
      "metadata": {
        "colab": {
          "base_uri": "https://localhost:8080/"
        },
        "id": "a4g0nqzS4rDi",
        "outputId": "01800ea2-6c9e-4af0-8f8d-c9aee7f0d190"
      },
      "source": [
        "from google.colab import drive\r\n",
        "drive.mount('/content/drive')"
      ],
      "execution_count": 1,
      "outputs": [
        {
          "output_type": "stream",
          "text": [
            "Mounted at /content/drive\n"
          ],
          "name": "stdout"
        }
      ]
    },
    {
      "cell_type": "code",
      "metadata": {
        "id": "C-Vy8RKJ42NO"
      },
      "source": [
        "import pandas as pd\r\n",
        "import numpy as np\r\n",
        "import matplotlib.pyplot as plt\r\n",
        "import seaborn as sns\r\n",
        "from sklearn.model_selection import train_test_split"
      ],
      "execution_count": 2,
      "outputs": []
    },
    {
      "cell_type": "code",
      "metadata": {
        "colab": {
          "base_uri": "https://localhost:8080/"
        },
        "id": "_iUsItMK5XS5",
        "outputId": "6f06a002-1a74-4a58-fd39-1171799160bf"
      },
      "source": [
        "train = pd.read_csv('/content/drive/MyDrive/Analytics Vidya/train.csv')\r\n",
        "train.info()"
      ],
      "execution_count": 3,
      "outputs": [
        {
          "output_type": "stream",
          "text": [
            "<class 'pandas.core.frame.DataFrame'>\n",
            "RangeIndex: 31962 entries, 0 to 31961\n",
            "Data columns (total 3 columns):\n",
            " #   Column  Non-Null Count  Dtype \n",
            "---  ------  --------------  ----- \n",
            " 0   id      31962 non-null  int64 \n",
            " 1   label   31962 non-null  int64 \n",
            " 2   tweet   31962 non-null  object\n",
            "dtypes: int64(2), object(1)\n",
            "memory usage: 749.2+ KB\n"
          ],
          "name": "stdout"
        }
      ]
    },
    {
      "cell_type": "code",
      "metadata": {
        "colab": {
          "base_uri": "https://localhost:8080/",
          "height": 195
        },
        "id": "SHKs3JY_5fqm",
        "outputId": "1351b7e8-9c61-4433-c5c8-26f8f1c9fac4"
      },
      "source": [
        "train.head()"
      ],
      "execution_count": 4,
      "outputs": [
        {
          "output_type": "execute_result",
          "data": {
            "text/html": [
              "<div>\n",
              "<style scoped>\n",
              "    .dataframe tbody tr th:only-of-type {\n",
              "        vertical-align: middle;\n",
              "    }\n",
              "\n",
              "    .dataframe tbody tr th {\n",
              "        vertical-align: top;\n",
              "    }\n",
              "\n",
              "    .dataframe thead th {\n",
              "        text-align: right;\n",
              "    }\n",
              "</style>\n",
              "<table border=\"1\" class=\"dataframe\">\n",
              "  <thead>\n",
              "    <tr style=\"text-align: right;\">\n",
              "      <th></th>\n",
              "      <th>id</th>\n",
              "      <th>label</th>\n",
              "      <th>tweet</th>\n",
              "    </tr>\n",
              "  </thead>\n",
              "  <tbody>\n",
              "    <tr>\n",
              "      <th>0</th>\n",
              "      <td>1</td>\n",
              "      <td>0</td>\n",
              "      <td>@user when a father is dysfunctional and is s...</td>\n",
              "    </tr>\n",
              "    <tr>\n",
              "      <th>1</th>\n",
              "      <td>2</td>\n",
              "      <td>0</td>\n",
              "      <td>@user @user thanks for #lyft credit i can't us...</td>\n",
              "    </tr>\n",
              "    <tr>\n",
              "      <th>2</th>\n",
              "      <td>3</td>\n",
              "      <td>0</td>\n",
              "      <td>bihday your majesty</td>\n",
              "    </tr>\n",
              "    <tr>\n",
              "      <th>3</th>\n",
              "      <td>4</td>\n",
              "      <td>0</td>\n",
              "      <td>#model   i love u take with u all the time in ...</td>\n",
              "    </tr>\n",
              "    <tr>\n",
              "      <th>4</th>\n",
              "      <td>5</td>\n",
              "      <td>0</td>\n",
              "      <td>factsguide: society now    #motivation</td>\n",
              "    </tr>\n",
              "  </tbody>\n",
              "</table>\n",
              "</div>"
            ],
            "text/plain": [
              "   id  label                                              tweet\n",
              "0   1      0   @user when a father is dysfunctional and is s...\n",
              "1   2      0  @user @user thanks for #lyft credit i can't us...\n",
              "2   3      0                                bihday your majesty\n",
              "3   4      0  #model   i love u take with u all the time in ...\n",
              "4   5      0             factsguide: society now    #motivation"
            ]
          },
          "metadata": {
            "tags": []
          },
          "execution_count": 4
        }
      ]
    },
    {
      "cell_type": "code",
      "metadata": {
        "colab": {
          "base_uri": "https://localhost:8080/"
        },
        "id": "8DqI8kWv5lNf",
        "outputId": "ba7f24b5-b00a-4fe0-9e94-bb172bbd275c"
      },
      "source": [
        "train['label'].value_counts()"
      ],
      "execution_count": 5,
      "outputs": [
        {
          "output_type": "execute_result",
          "data": {
            "text/plain": [
              "0    29720\n",
              "1     2242\n",
              "Name: label, dtype: int64"
            ]
          },
          "metadata": {
            "tags": []
          },
          "execution_count": 5
        }
      ]
    },
    {
      "cell_type": "code",
      "metadata": {
        "colab": {
          "base_uri": "https://localhost:8080/",
          "height": 35
        },
        "id": "ykDgASH76HrJ",
        "outputId": "51a71ecb-d8c3-489e-c455-913c091ccafb"
      },
      "source": [
        "train['tweet'][0]"
      ],
      "execution_count": 6,
      "outputs": [
        {
          "output_type": "execute_result",
          "data": {
            "application/vnd.google.colaboratory.intrinsic+json": {
              "type": "string"
            },
            "text/plain": [
              "' @user when a father is dysfunctional and is so selfish he drags his kids into his dysfunction.   #run'"
            ]
          },
          "metadata": {
            "tags": []
          },
          "execution_count": 6
        }
      ]
    },
    {
      "cell_type": "code",
      "metadata": {
        "colab": {
          "base_uri": "https://localhost:8080/",
          "height": 195
        },
        "id": "o5hXMxwc6VYD",
        "outputId": "e9dc5b1a-9dc1-4366-df37-7273c5984de1"
      },
      "source": [
        "racist = train[train['label'] == 1]\r\n",
        "racist.head()"
      ],
      "execution_count": 7,
      "outputs": [
        {
          "output_type": "execute_result",
          "data": {
            "text/html": [
              "<div>\n",
              "<style scoped>\n",
              "    .dataframe tbody tr th:only-of-type {\n",
              "        vertical-align: middle;\n",
              "    }\n",
              "\n",
              "    .dataframe tbody tr th {\n",
              "        vertical-align: top;\n",
              "    }\n",
              "\n",
              "    .dataframe thead th {\n",
              "        text-align: right;\n",
              "    }\n",
              "</style>\n",
              "<table border=\"1\" class=\"dataframe\">\n",
              "  <thead>\n",
              "    <tr style=\"text-align: right;\">\n",
              "      <th></th>\n",
              "      <th>id</th>\n",
              "      <th>label</th>\n",
              "      <th>tweet</th>\n",
              "    </tr>\n",
              "  </thead>\n",
              "  <tbody>\n",
              "    <tr>\n",
              "      <th>13</th>\n",
              "      <td>14</td>\n",
              "      <td>1</td>\n",
              "      <td>@user #cnn calls #michigan middle school 'buil...</td>\n",
              "    </tr>\n",
              "    <tr>\n",
              "      <th>14</th>\n",
              "      <td>15</td>\n",
              "      <td>1</td>\n",
              "      <td>no comment!  in #australia   #opkillingbay #se...</td>\n",
              "    </tr>\n",
              "    <tr>\n",
              "      <th>17</th>\n",
              "      <td>18</td>\n",
              "      <td>1</td>\n",
              "      <td>retweet if you agree!</td>\n",
              "    </tr>\n",
              "    <tr>\n",
              "      <th>23</th>\n",
              "      <td>24</td>\n",
              "      <td>1</td>\n",
              "      <td>@user @user lumpy says i am a . prove it lumpy.</td>\n",
              "    </tr>\n",
              "    <tr>\n",
              "      <th>34</th>\n",
              "      <td>35</td>\n",
              "      <td>1</td>\n",
              "      <td>it's unbelievable that in the 21st century we'...</td>\n",
              "    </tr>\n",
              "  </tbody>\n",
              "</table>\n",
              "</div>"
            ],
            "text/plain": [
              "    id  label                                              tweet\n",
              "13  14      1  @user #cnn calls #michigan middle school 'buil...\n",
              "14  15      1  no comment!  in #australia   #opkillingbay #se...\n",
              "17  18      1                             retweet if you agree! \n",
              "23  24      1    @user @user lumpy says i am a . prove it lumpy.\n",
              "34  35      1  it's unbelievable that in the 21st century we'..."
            ]
          },
          "metadata": {
            "tags": []
          },
          "execution_count": 7
        }
      ]
    },
    {
      "cell_type": "code",
      "metadata": {
        "colab": {
          "base_uri": "https://localhost:8080/",
          "height": 35
        },
        "id": "TuNlLDga6jis",
        "outputId": "73dfe3ab-72d2-49e9-c6ea-99715386b423"
      },
      "source": [
        "racist.iloc[2,2]"
      ],
      "execution_count": 8,
      "outputs": [
        {
          "output_type": "execute_result",
          "data": {
            "application/vnd.google.colaboratory.intrinsic+json": {
              "type": "string"
            },
            "text/plain": [
              "'retweet if you agree! '"
            ]
          },
          "metadata": {
            "tags": []
          },
          "execution_count": 8
        }
      ]
    },
    {
      "cell_type": "code",
      "metadata": {
        "id": "w20D6znn6sBG"
      },
      "source": [
        "import seaborn as sns\r\n",
        "sns.set_style(\"darkgrid\")\r\n",
        "import string\r\n",
        "from wordcloud import WordCloud , STOPWORDS"
      ],
      "execution_count": 10,
      "outputs": []
    },
    {
      "cell_type": "code",
      "metadata": {
        "id": "KI8p5y3D-xt1"
      },
      "source": [
        "commonWord = ' '.join(train['tweet'])"
      ],
      "execution_count": null,
      "outputs": []
    },
    {
      "cell_type": "code",
      "metadata": {
        "id": "E2y7BQEvViso"
      },
      "source": [
        "wordcloud = WordCloud(stopwords=STOPWORDS,\r\n",
        "                      background_color='black',\r\n",
        "                      width=3000,\r\n",
        "                      height=2500\r\n",
        "                     ).generate(commonWord)"
      ],
      "execution_count": null,
      "outputs": []
    },
    {
      "cell_type": "code",
      "metadata": {
        "colab": {
          "base_uri": "https://localhost:8080/",
          "height": 589
        },
        "id": "EnS_PBuOVpYJ",
        "outputId": "b1ace50c-7dce-4787-ee52-6ba79cefdde7"
      },
      "source": [
        "plt.figure(1,figsize=(12, 12))\r\n",
        "plt.imshow(wordcloud)\r\n",
        "plt.axis('off')\r\n",
        "plt.show()"
      ],
      "execution_count": null,
      "outputs": [
        {
          "output_type": "display_data",
          "data": {
            "image/png": "[encoded data removed]",
            "text/plain": [
              "<Figure size 864x864 with 1 Axes>"
            ]
          },
          "metadata": {
            "tags": []
          }
        }
      ]
    },
    {
      "cell_type": "code",
      "metadata": {
        "id": "q1mI6jVGXpU4"
      },
      "source": [
        "X = train.tweet.values\r\n",
        "Y = train.label.values\r\n",
        "X_train, X_val, y_train, y_val =\\\r\n",
        "    train_test_split(X, Y, test_size=0.1, random_state=2020)"
      ],
      "execution_count": 9,
      "outputs": []
    },
    {
      "cell_type": "code",
      "metadata": {
        "colab": {
          "base_uri": "https://localhost:8080/"
        },
        "id": "0qjWEZ9oX9qM",
        "outputId": "c66623f8-266e-434f-9dcc-c9f9c5385def"
      },
      "source": [
        "np.unique(y_train)"
      ],
      "execution_count": 10,
      "outputs": [
        {
          "output_type": "execute_result",
          "data": {
            "text/plain": [
              "array([0, 1])"
            ]
          },
          "metadata": {
            "tags": []
          },
          "execution_count": 10
        }
      ]
    },
    {
      "cell_type": "code",
      "metadata": {
        "colab": {
          "base_uri": "https://localhost:8080/"
        },
        "id": "Rpnchv4yXoqz",
        "outputId": "69765bc7-bb18-4990-aee8-cb38a7f4b996"
      },
      "source": [
        "import torch\r\n",
        "\r\n",
        "if torch.cuda.is_available():       \r\n",
        "    device = torch.device(\"cuda\")\r\n",
        "    print(f'There are {torch.cuda.device_count()} GPU(s) available.')\r\n",
        "    print('Device name:', torch.cuda.get_device_name(0))\r\n",
        "\r\n",
        "else:\r\n",
        "    print('No GPU available, using the CPU instead.')\r\n",
        "    device = torch.device(\"cpu\")"
      ],
      "execution_count": 11,
      "outputs": [
        {
          "output_type": "stream",
          "text": [
            "There are 1 GPU(s) available.\n",
            "Device name: Tesla T4\n"
          ],
          "name": "stdout"
        }
      ]
    },
    {
      "cell_type": "code",
      "metadata": {
        "id": "L-OCo4wnVuMz"
      },
      "source": [
        "import re\r\n",
        "def text_preprocessing(text):\r\n",
        "    text = re.sub(r'(@.*?)[\\s]', ' ', text)\r\n",
        "    text = re.sub(r'[0-9]+' , '' ,text)\r\n",
        "    text = re.sub(r'\\s([@][\\w_-]+)', '', text).strip()\r\n",
        "    text = re.sub(r'&amp;', '&', text)\r\n",
        "    text = re.sub(r'\\s+', ' ', text).strip()\r\n",
        "    text = text.replace(\"#\" , \" \")\r\n",
        "    text = text.replace(\"...\" , \" \")\r\n",
        "    text = text.replace(\"[\",\"\")\r\n",
        "    encoded_string = text.encode(\"ascii\", \"ignore\")\r\n",
        "    decode_string = encoded_string.decode()\r\n",
        "    return decode_string"
      ],
      "execution_count": 22,
      "outputs": []
    },
    {
      "cell_type": "code",
      "metadata": {
        "colab": {
          "base_uri": "https://localhost:8080/"
        },
        "id": "AB6EDAapWhS7",
        "outputId": "0e2198af-e0ea-4864-f13b-7b21c4beb119"
      },
      "source": [
        "print('Original: ', train['tweet'][1])\r\n",
        "print('Processed: ', text_preprocessing(train['tweet'][1]))"
      ],
      "execution_count": 23,
      "outputs": [
        {
          "output_type": "stream",
          "text": [
            "Original:  @user @user thanks for #lyft credit i can't use cause they don't offer wheelchair vans in pdx.    #disapointed #getthanked\n",
            "Processed:  thanks for  lyft credit i can't use cause they don't offer wheelchair vans in pdx.  disapointed  getthanked\n"
          ],
          "name": "stdout"
        }
      ]
    },
    {
      "cell_type": "code",
      "metadata": {
        "colab": {
          "base_uri": "https://localhost:8080/"
        },
        "id": "0Tryj6h13F6b",
        "outputId": "017774ae-8333-4eec-95da-b15ac7dd18b4"
      },
      "source": [
        "print('Original: ', train['tweet'][5])\r\n",
        "print('Processed: ', text_preprocessing(train['tweet'][5]))"
      ],
      "execution_count": 24,
      "outputs": [
        {
          "output_type": "stream",
          "text": [
            "Original:  [2/2] huge fan fare and big talking before they leave. chaos and pay disputes when they get there. #allshowandnogo  \n",
            "Processed:  /] huge fan fare and big talking before they leave. chaos and pay disputes when they get there.  allshowandnogo\n"
          ],
          "name": "stdout"
        }
      ]
    },
    {
      "cell_type": "code",
      "metadata": {
        "colab": {
          "base_uri": "https://localhost:8080/"
        },
        "id": "cNVKwb9k3G4T",
        "outputId": "e6cb9ca9-e980-4a80-da8e-be19dc4bef49"
      },
      "source": [
        "print('Original: ', train['tweet'][15])\r\n",
        "print('Processed: ', text_preprocessing(train['tweet'][15]))"
      ],
      "execution_count": 25,
      "outputs": [
        {
          "output_type": "stream",
          "text": [
            "Original:  ouch...junior is angryð#got7 #junior #yugyoem   #omg \n",
            "Processed:  ouch junior is angry got  junior  yugyoem  omg\n"
          ],
          "name": "stdout"
        }
      ]
    },
    {
      "cell_type": "code",
      "metadata": {
        "colab": {
          "base_uri": "https://localhost:8080/"
        },
        "id": "M_nZzd--YrGQ",
        "outputId": "10f6f8e7-4b48-44c8-ed0c-f10c189f7396"
      },
      "source": [
        "!pip install transformers"
      ],
      "execution_count": 26,
      "outputs": [
        {
          "output_type": "stream",
          "text": [
            "Collecting transformers\n",
            "\u001b[?25l  Downloading https://files.pythonhosted.org/packages/88/b1/41130a228dd656a1a31ba281598a968320283f48d42782845f6ba567f00b/transformers-4.2.2-py3-none-any.whl (1.8MB)\n",
            "\u001b[K     |████████████████████████████████| 1.8MB 16.7MB/s \n",
            "\u001b[?25hCollecting tokenizers==0.9.4\n",
            "\u001b[?25l  Downloading https://files.pythonhosted.org/packages/0f/1c/e789a8b12e28be5bc1ce2156cf87cb522b379be9cadc7ad8091a4cc107c4/tokenizers-0.9.4-cp36-cp36m-manylinux2010_x86_64.whl (2.9MB)\n",
            "\u001b[K     |████████████████████████████████| 2.9MB 57.8MB/s \n",
            "\u001b[?25hRequirement already satisfied: packaging in /usr/local/lib/python3.6/dist-packages (from transformers) (20.8)\n",
            "Requirement already satisfied: requests in /usr/local/lib/python3.6/dist-packages (from transformers) (2.23.0)\n",
            "Requirement already satisfied: numpy in /usr/local/lib/python3.6/dist-packages (from transformers) (1.19.5)\n",
            "Requirement already satisfied: filelock in /usr/local/lib/python3.6/dist-packages (from transformers) (3.0.12)\n",
            "Collecting sacremoses\n",
            "\u001b[?25l  Downloading https://files.pythonhosted.org/packages/7d/34/09d19aff26edcc8eb2a01bed8e98f13a1537005d31e95233fd48216eed10/sacremoses-0.0.43.tar.gz (883kB)\n",
            "\u001b[K     |████████████████████████████████| 890kB 55.2MB/s \n",
            "\u001b[?25hRequirement already satisfied: tqdm>=4.27 in /usr/local/lib/python3.6/dist-packages (from transformers) (4.41.1)\n",
            "Requirement already satisfied: regex!=2019.12.17 in /usr/local/lib/python3.6/dist-packages (from transformers) (2019.12.20)\n",
            "Requirement already satisfied: dataclasses; python_version < \"3.7\" in /usr/local/lib/python3.6/dist-packages (from transformers) (0.8)\n",
            "Requirement already satisfied: importlib-metadata; python_version < \"3.8\" in /usr/local/lib/python3.6/dist-packages (from transformers) (3.3.0)\n",
            "Requirement already satisfied: pyparsing>=2.0.2 in /usr/local/lib/python3.6/dist-packages (from packaging->transformers) (2.4.7)\n",
            "Requirement already satisfied: certifi>=2017.4.17 in /usr/local/lib/python3.6/dist-packages (from requests->transformers) (2020.12.5)\n",
            "Requirement already satisfied: urllib3!=1.25.0,!=1.25.1,<1.26,>=1.21.1 in /usr/local/lib/python3.6/dist-packages (from requests->transformers) (1.24.3)\n",
            "Requirement already satisfied: idna<3,>=2.5 in /usr/local/lib/python3.6/dist-packages (from requests->transformers) (2.10)\n",
            "Requirement already satisfied: chardet<4,>=3.0.2 in /usr/local/lib/python3.6/dist-packages (from requests->transformers) (3.0.4)\n",
            "Requirement already satisfied: six in /usr/local/lib/python3.6/dist-packages (from sacremoses->transformers) (1.15.0)\n",
            "Requirement already satisfied: click in /usr/local/lib/python3.6/dist-packages (from sacremoses->transformers) (7.1.2)\n",
            "Requirement already satisfied: joblib in /usr/local/lib/python3.6/dist-packages (from sacremoses->transformers) (1.0.0)\n",
            "Requirement already satisfied: typing-extensions>=3.6.4; python_version < \"3.8\" in /usr/local/lib/python3.6/dist-packages (from importlib-metadata; python_version < \"3.8\"->transformers) (3.7.4.3)\n",
            "Requirement already satisfied: zipp>=0.5 in /usr/local/lib/python3.6/dist-packages (from importlib-metadata; python_version < \"3.8\"->transformers) (3.4.0)\n",
            "Building wheels for collected packages: sacremoses\n",
            "  Building wheel for sacremoses (setup.py) ... \u001b[?25l\u001b[?25hdone\n",
            "  Created wheel for sacremoses: filename=sacremoses-0.0.43-cp36-none-any.whl size=893261 sha256=fa8fece26c44db271b969afc112db42477bb709d20eb520a2ee0d2de822449ab\n",
            "  Stored in directory: /root/.cache/pip/wheels/29/3c/fd/7ce5c3f0666dab31a50123635e6fb5e19ceb42ce38d4e58f45\n",
            "Successfully built sacremoses\n",
            "Installing collected packages: tokenizers, sacremoses, transformers\n",
            "Successfully installed sacremoses-0.0.43 tokenizers-0.9.4 transformers-4.2.2\n"
          ],
          "name": "stdout"
        }
      ]
    },
    {
      "cell_type": "code",
      "metadata": {
        "colab": {
          "base_uri": "https://localhost:8080/",
          "height": 66,
          "referenced_widgets": [
            "18edffa9c78442c3abdcf635d00b5715",
            "52755c34ca8942d3b6c0692b9392c807",
            "bfc316fafbf048b49ecdf30ee589c15d",
            "bca07ddaf67341e3bcc5a05dadc7717c",
            "e7df93bf6e104ea0b0c88dce9ee21fac",
            "d521c3769d4b46b3be833e8635d5ad6c",
            "04cc4884bf68456ea69144e9fab14a47",
            "40dfef11b6014868bd58bc61d2442239"
          ]
        },
        "id": "4gJ_islGWwax",
        "outputId": "29d39115-49ce-443a-b2be-1f0a206de4bc"
      },
      "source": [
        "from transformers import BertTokenizer\r\n",
        "tokenizer = BertTokenizer.from_pretrained('bert-base-uncased', do_lower_case=True)\r\n",
        "def preprocessing_for_bert(data):\r\n",
        "    input_ids = []\r\n",
        "    attention_masks = []\r\n",
        "\r\n",
        "    # For every sentence...\r\n",
        "    for sent in data:\r\n",
        "        encoded_sent = tokenizer.encode_plus(\r\n",
        "            text=text_preprocessing(sent),  # Preprocess sentence\r\n",
        "            add_special_tokens=True,        # Add `[CLS]` and `[SEP]`\r\n",
        "            max_length=MAX_LEN,                  # Max length to truncate/pad\r\n",
        "            pad_to_max_length=True,         # Pad sentence to max length\r\n",
        "            #return_tensors='pt',           # Return PyTorch tensor\r\n",
        "            return_attention_mask=True      # Return attention mask\r\n",
        "            )\r\n",
        "        input_ids.append(encoded_sent.get('input_ids'))\r\n",
        "        attention_masks.append(encoded_sent.get('attention_mask'))\r\n",
        "\r\n",
        "    # Convert lists to tensors\r\n",
        "    input_ids = torch.tensor(input_ids)\r\n",
        "    attention_masks = torch.tensor(attention_masks)\r\n",
        "\r\n",
        "    return input_ids, attention_masks"
      ],
      "execution_count": 27,
      "outputs": [
        {
          "output_type": "display_data",
          "data": {
            "application/vnd.jupyter.widget-view+json": {
              "model_id": "18edffa9c78442c3abdcf635d00b5715",
              "version_minor": 0,
              "version_major": 2
            },
            "text/plain": [
              "HBox(children=(FloatProgress(value=0.0, description='Downloading', max=231508.0, style=ProgressStyle(descripti…"
            ]
          },
          "metadata": {
            "tags": []
          }
        },
        {
          "output_type": "stream",
          "text": [
            "\n"
          ],
          "name": "stdout"
        }
      ]
    },
    {
      "cell_type": "code",
      "metadata": {
        "colab": {
          "base_uri": "https://localhost:8080/",
          "height": 343
        },
        "id": "fvX0nYr0ZTg1",
        "outputId": "5b386ef1-2842-47ff-809c-28fc9f323d17"
      },
      "source": [
        "df_test = pd.read_csv('/content/drive/MyDrive/Analytics Vidya/test_tweets.csv')\r\n",
        "df_test.head(10)"
      ],
      "execution_count": 28,
      "outputs": [
        {
          "output_type": "execute_result",
          "data": {
            "text/html": [
              "<div>\n",
              "<style scoped>\n",
              "    .dataframe tbody tr th:only-of-type {\n",
              "        vertical-align: middle;\n",
              "    }\n",
              "\n",
              "    .dataframe tbody tr th {\n",
              "        vertical-align: top;\n",
              "    }\n",
              "\n",
              "    .dataframe thead th {\n",
              "        text-align: right;\n",
              "    }\n",
              "</style>\n",
              "<table border=\"1\" class=\"dataframe\">\n",
              "  <thead>\n",
              "    <tr style=\"text-align: right;\">\n",
              "      <th></th>\n",
              "      <th>id</th>\n",
              "      <th>tweet</th>\n",
              "    </tr>\n",
              "  </thead>\n",
              "  <tbody>\n",
              "    <tr>\n",
              "      <th>0</th>\n",
              "      <td>31963</td>\n",
              "      <td>#studiolife #aislife #requires #passion #dedic...</td>\n",
              "    </tr>\n",
              "    <tr>\n",
              "      <th>1</th>\n",
              "      <td>31964</td>\n",
              "      <td>@user #white #supremacists want everyone to s...</td>\n",
              "    </tr>\n",
              "    <tr>\n",
              "      <th>2</th>\n",
              "      <td>31965</td>\n",
              "      <td>safe ways to heal your #acne!!    #altwaystohe...</td>\n",
              "    </tr>\n",
              "    <tr>\n",
              "      <th>3</th>\n",
              "      <td>31966</td>\n",
              "      <td>is the hp and the cursed child book up for res...</td>\n",
              "    </tr>\n",
              "    <tr>\n",
              "      <th>4</th>\n",
              "      <td>31967</td>\n",
              "      <td>3rd #bihday to my amazing, hilarious #nephew...</td>\n",
              "    </tr>\n",
              "    <tr>\n",
              "      <th>5</th>\n",
              "      <td>31968</td>\n",
              "      <td>choose to be   :) #momtips</td>\n",
              "    </tr>\n",
              "    <tr>\n",
              "      <th>6</th>\n",
              "      <td>31969</td>\n",
              "      <td>something inside me dies ð¦ð¿â¨  eyes nes...</td>\n",
              "    </tr>\n",
              "    <tr>\n",
              "      <th>7</th>\n",
              "      <td>31970</td>\n",
              "      <td>#finished#tattoo#inked#ink#loveitâ¤ï¸ #â¤ï¸...</td>\n",
              "    </tr>\n",
              "    <tr>\n",
              "      <th>8</th>\n",
              "      <td>31971</td>\n",
              "      <td>@user @user @user i will never understand why...</td>\n",
              "    </tr>\n",
              "    <tr>\n",
              "      <th>9</th>\n",
              "      <td>31972</td>\n",
              "      <td>#delicious   #food #lovelife #capetown mannaep...</td>\n",
              "    </tr>\n",
              "  </tbody>\n",
              "</table>\n",
              "</div>"
            ],
            "text/plain": [
              "      id                                              tweet\n",
              "0  31963  #studiolife #aislife #requires #passion #dedic...\n",
              "1  31964   @user #white #supremacists want everyone to s...\n",
              "2  31965  safe ways to heal your #acne!!    #altwaystohe...\n",
              "3  31966  is the hp and the cursed child book up for res...\n",
              "4  31967    3rd #bihday to my amazing, hilarious #nephew...\n",
              "5  31968                        choose to be   :) #momtips \n",
              "6  31969  something inside me dies ð¦ð¿â¨  eyes nes...\n",
              "7  31970  #finished#tattoo#inked#ink#loveitâ¤ï¸ #â¤ï¸...\n",
              "8  31971   @user @user @user i will never understand why...\n",
              "9  31972  #delicious   #food #lovelife #capetown mannaep..."
            ]
          },
          "metadata": {
            "tags": []
          },
          "execution_count": 28
        }
      ]
    },
    {
      "cell_type": "code",
      "metadata": {
        "colab": {
          "base_uri": "https://localhost:8080/"
        },
        "id": "PQtCYr6MTVoA",
        "outputId": "08163a30-cda8-499c-f55b-064215ddf146"
      },
      "source": [
        "df_test.shape"
      ],
      "execution_count": 56,
      "outputs": [
        {
          "output_type": "execute_result",
          "data": {
            "text/plain": [
              "(17197, 3)"
            ]
          },
          "metadata": {
            "tags": []
          },
          "execution_count": 56
        }
      ]
    },
    {
      "cell_type": "code",
      "metadata": {
        "colab": {
          "base_uri": "https://localhost:8080/"
        },
        "id": "RZhDokMFCGWl",
        "outputId": "e0691fc7-194c-49ca-f31c-675402401d24"
      },
      "source": [
        "print(df_test['tweet'][6])\r\n",
        "print(text_preprocessing(df_test['tweet'][6]))"
      ],
      "execution_count": 29,
      "outputs": [
        {
          "output_type": "stream",
          "text": [
            "something inside me dies ð¦ð¿â¨  eyes ness #smokeyeyes #tired  #lonely #sof #grungeâ¦ \n",
            "something inside me dies  eyes ness  smokeyeyes  tired  lonely  sof  grunge\n"
          ],
          "name": "stdout"
        }
      ]
    },
    {
      "cell_type": "code",
      "metadata": {
        "colab": {
          "base_uri": "https://localhost:8080/"
        },
        "id": "9dWHAxd7Cwbf",
        "outputId": "2fd9294b-357c-485f-8c40-9208e5445035"
      },
      "source": [
        "print('Original : ', df_test['tweet'][6])\r\n",
        "print('processed : ' , text_preprocessing(df_test['tweet'][6]))"
      ],
      "execution_count": 30,
      "outputs": [
        {
          "output_type": "stream",
          "text": [
            "Original :  something inside me dies ð¦ð¿â¨  eyes ness #smokeyeyes #tired  #lonely #sof #grungeâ¦ \n",
            "processed :  something inside me dies  eyes ness  smokeyeyes  tired  lonely  sof  grunge\n"
          ],
          "name": "stdout"
        }
      ]
    },
    {
      "cell_type": "code",
      "metadata": {
        "colab": {
          "base_uri": "https://localhost:8080/"
        },
        "id": "E049TGhYC92V",
        "outputId": "fd00e674-3fd0-4e1b-e33b-5dde23336e61"
      },
      "source": [
        "print('Original : ', df_test['tweet'][7])\r\n",
        "print('processed : ' , text_preprocessing(df_test['tweet'][7]))"
      ],
      "execution_count": 31,
      "outputs": [
        {
          "output_type": "stream",
          "text": [
            "Original :  #finished#tattoo#inked#ink#loveitâ¤ï¸ #â¤ï¸â¤ï¸â¤ï¸â¤ï¸ #thanks#aleeee !!! \n",
            "processed :   finished tattoo inked ink loveit    thanks aleeee !!!\n"
          ],
          "name": "stdout"
        }
      ]
    },
    {
      "cell_type": "code",
      "metadata": {
        "colab": {
          "base_uri": "https://localhost:8080/"
        },
        "id": "ACpQkcaYZvyx",
        "outputId": "5526645e-6845-49e4-a3b0-441b3ac5168e"
      },
      "source": [
        "type(X_train)"
      ],
      "execution_count": 32,
      "outputs": [
        {
          "output_type": "execute_result",
          "data": {
            "text/plain": [
              "numpy.ndarray"
            ]
          },
          "metadata": {
            "tags": []
          },
          "execution_count": 32
        }
      ]
    },
    {
      "cell_type": "code",
      "metadata": {
        "colab": {
          "base_uri": "https://localhost:8080/"
        },
        "id": "xJGxV4hnZBm0",
        "outputId": "409fef88-af6d-4e55-992d-e780b7e0069e"
      },
      "source": [
        "all_tweets = np.concatenate([train.tweet.values, df_test.tweet.values])\r\n",
        "\r\n",
        "# Encode our concatenated data\r\n",
        "encoded_tweets = [tokenizer.encode(sent, add_special_tokens=True) for sent in all_tweets]\r\n",
        "\r\n",
        "# Find the maximum length\r\n",
        "max_len = max([len(sent) for sent in encoded_tweets])\r\n",
        "print('Max length: ', max_len)"
      ],
      "execution_count": 33,
      "outputs": [
        {
          "output_type": "stream",
          "text": [
            "Max length:  137\n"
          ],
          "name": "stdout"
        }
      ]
    },
    {
      "cell_type": "code",
      "metadata": {
        "colab": {
          "base_uri": "https://localhost:8080/"
        },
        "id": "oGROYPj4Z4lA",
        "outputId": "e4e13873-f16c-4cbe-9a39-e6693395baac"
      },
      "source": [
        "MAX_LEN = 137\r\n",
        "\r\n",
        "token_ids = list(preprocessing_for_bert([X[0]])[0].squeeze().numpy())\r\n",
        "print('Original: ', X[0])\r\n",
        "print('Token IDs: ', token_ids)\r\n",
        "\r\n",
        "# Run function `preprocessing_for_bert` on the train set and the validation set\r\n",
        "print('Tokenizing data...')\r\n",
        "train_inputs, train_masks = preprocessing_for_bert(X_train)\r\n",
        "val_inputs, val_masks = preprocessing_for_bert(X_val)"
      ],
      "execution_count": 34,
      "outputs": [
        {
          "output_type": "stream",
          "text": [
            "Truncation was not explicitly activated but `max_length` is provided a specific value, please use `truncation=True` to explicitly truncate examples to max length. Defaulting to 'longest_first' truncation strategy. If you encode pairs of sequences (GLUE-style) with the tokenizer you can select this strategy more precisely by providing a specific strategy to `truncation`.\n",
            "/usr/local/lib/python3.6/dist-packages/transformers/tokenization_utils_base.py:2143: FutureWarning: The `pad_to_max_length` argument is deprecated and will be removed in a future version, use `padding=True` or `padding='longest'` to pad to the longest sequence in the batch, or use `padding='max_length'` to pad to a max length. In this case, you can give a specific length with `max_length` (e.g. `max_length=45`) or leave max_length to None to pad to the maximal input size of the model (e.g. 512 for Bert).\n",
            "  FutureWarning,\n"
          ],
          "name": "stderr"
        },
        {
          "output_type": "stream",
          "text": [
            "Original:   @user when a father is dysfunctional and is so selfish he drags his kids into his dysfunction.   #run\n",
            "Token IDs:  [101, 2043, 1037, 2269, 2003, 28466, 2389, 1998, 2003, 2061, 14337, 2002, 8011, 2015, 2010, 4268, 2046, 2010, 28466, 1012, 2448, 102, 0, 0, 0, 0, 0, 0, 0, 0, 0, 0, 0, 0, 0, 0, 0, 0, 0, 0, 0, 0, 0, 0, 0, 0, 0, 0, 0, 0, 0, 0, 0, 0, 0, 0, 0, 0, 0, 0, 0, 0, 0, 0, 0, 0, 0, 0, 0, 0, 0, 0, 0, 0, 0, 0, 0, 0, 0, 0, 0, 0, 0, 0, 0, 0, 0, 0, 0, 0, 0, 0, 0, 0, 0, 0, 0, 0, 0, 0, 0, 0, 0, 0, 0, 0, 0, 0, 0, 0, 0, 0, 0, 0, 0, 0, 0, 0, 0, 0, 0, 0, 0, 0, 0, 0, 0, 0, 0, 0, 0, 0, 0, 0, 0, 0, 0]\n",
            "Tokenizing data...\n"
          ],
          "name": "stdout"
        }
      ]
    },
    {
      "cell_type": "code",
      "metadata": {
        "id": "1dF2zKrzaQJN"
      },
      "source": [
        "from torch.utils.data import TensorDataset, DataLoader, RandomSampler, SequentialSampler\r\n",
        "\r\n",
        "# Convert other data types to torch.Tensor\r\n",
        "train_labels = torch.tensor(y_train)\r\n",
        "val_labels = torch.tensor(y_val)\r\n",
        "\r\n",
        "# For fine-tuning BERT, the authors recommend a batch size of 16 or 32.\r\n",
        "batch_size = 32\r\n",
        "\r\n",
        "# Create the DataLoader for our training set\r\n",
        "train_data = TensorDataset(train_inputs, train_masks, train_labels)\r\n",
        "train_sampler = RandomSampler(train_data)\r\n",
        "train_dataloader = DataLoader(train_data, sampler=train_sampler, batch_size=batch_size)\r\n",
        "\r\n",
        "# Create the DataLoader for our validation set\r\n",
        "val_data = TensorDataset(val_inputs, val_masks, val_labels)\r\n",
        "val_sampler = SequentialSampler(val_data)\r\n",
        "val_dataloader = DataLoader(val_data, sampler=val_sampler, batch_size=batch_size)"
      ],
      "execution_count": 35,
      "outputs": []
    },
    {
      "cell_type": "code",
      "metadata": {
        "id": "aGgNX5KLvqUh"
      },
      "source": [
        "import torch.nn.functional as F"
      ],
      "execution_count": 1,
      "outputs": []
    },
    {
      "cell_type": "code",
      "metadata": {
        "colab": {
          "base_uri": "https://localhost:8080/"
        },
        "id": "wHyIJo6Zau-j",
        "outputId": "9ce5b10e-4156-477e-ab6e-16d1746ef027"
      },
      "source": [
        "%time\r\n",
        "import torch\r\n",
        "import torch.nn as nn\r\n",
        "from transformers import BertModel\r\n",
        "\r\n",
        "# Create the BertClassfier class\r\n",
        "class BertClassifier(nn.Module):\r\n",
        "    def __init__(self, freeze_bert=False):\r\n",
        "        super(BertClassifier, self).__init__()\r\n",
        "        # Specify hidden size of BERT, hidden size of our classifier, and number of labels\r\n",
        "        D_in, H, D_out = 768, 50, 2\r\n",
        "\r\n",
        "        # Instantiate BERT model\r\n",
        "        self.bert = BertModel.from_pretrained('bert-base-uncased')\r\n",
        "        # self.LSTM = nn.LSTM(D_in,D_in,bidirectional=True)\r\n",
        "        # self.clf = nn.Linear(D_in*2,2)\r\n",
        "\r\n",
        "        # Instantiate an one-layer feed-forward classifier\r\n",
        "        self.classifier = nn.Sequential(\r\n",
        "            # nn.LSTM(D_in,D_in)\r\n",
        "            nn.Linear(D_in, H),\r\n",
        "            nn.ReLU(),\r\n",
        "            nn.Linear(H, D_out)\r\n",
        "        )\r\n",
        "\r\n",
        "        # Freeze the BERT model\r\n",
        "        if freeze_bert:\r\n",
        "            for param in self.bert.parameters():\r\n",
        "                param.requires_grad = False\r\n",
        "        \r\n",
        "    def forward(self, input_ids, attention_mask):\r\n",
        "        # Feed input to BERT\r\n",
        "        outputs = self.bert(input_ids=input_ids,\r\n",
        "                            attention_mask=attention_mask)\r\n",
        "        # Extract the last hidden state of the token `[CLS]` for classification task\r\n",
        "        last_hidden_state_cls = outputs[0][:, 0, :]\r\n",
        "\r\n",
        "        # Feed input to classifier to compute logits\r\n",
        "        logits = self.classifier(last_hidden_state_cls)\r\n",
        "\r\n",
        "        return logits\r\n",
        "        # encoded_layers, pooled_output = self.bert(input_ids=input_ids,attention_mask=attention_mask)\r\n",
        "        # encoded_layers = encoded_layers.permute(1, 0, 2)\r\n",
        "        # enc_hiddens, (last_hidden, last_cell) = self.LSTM(pack_padded_sequence(encoded_layers, inputs[2]))\r\n",
        "        # output_hidden = torch.cat((last_hidden[0], last_hidden[1]), dim=1)\r\n",
        "        # output_hidden = F.dropout(output_hidden,0.2)\r\n",
        "        # output = self.clf(output_hidden)\r\n",
        "        \r\n",
        "        # return F.softmax(output)"
      ],
      "execution_count": 36,
      "outputs": [
        {
          "output_type": "stream",
          "text": [
            "CPU times: user 4 µs, sys: 0 ns, total: 4 µs\n",
            "Wall time: 7.15 µs\n"
          ],
          "name": "stdout"
        }
      ]
    },
    {
      "cell_type": "code",
      "metadata": {
        "id": "ezOdylqTbG0b"
      },
      "source": [
        "from transformers import AdamW, get_linear_schedule_with_warmup\r\n",
        "\r\n",
        "def initialize_model(epochs=7):\r\n",
        "    \"\"\"Initialize the Bert Classifier, the optimizer and the learning rate scheduler.\r\n",
        "    \"\"\"\r\n",
        "    # Instantiate Bert Classifier\r\n",
        "    bert_classifier = BertClassifier(freeze_bert=False)\r\n",
        "\r\n",
        "    # Tell PyTorch to run the model on GPU\r\n",
        "    bert_classifier.to(device)\r\n",
        "\r\n",
        "    # Create the optimizer\r\n",
        "    optimizer = AdamW(bert_classifier.parameters(),\r\n",
        "                      lr=5e-5,    # Default learning rate\r\n",
        "                      eps=1e-8    # Default epsilon value\r\n",
        "                      )\r\n",
        "\r\n",
        "    # Total number of training steps\r\n",
        "    total_steps = len(train_dataloader) * epochs\r\n",
        "\r\n",
        "    # Set up the learning rate scheduler\r\n",
        "    scheduler = get_linear_schedule_with_warmup(optimizer,\r\n",
        "                                                num_warmup_steps=0, # Default value\r\n",
        "                                                num_training_steps=total_steps)\r\n",
        "    return bert_classifier, optimizer, scheduler"
      ],
      "execution_count": 37,
      "outputs": []
    },
    {
      "cell_type": "code",
      "metadata": {
        "id": "C66HfUiwbMXo"
      },
      "source": [
        "import random\r\n",
        "import time\r\n",
        "\r\n",
        "# Specify loss function\r\n",
        "loss_fn = nn.CrossEntropyLoss()\r\n",
        "\r\n",
        "def set_seed(seed_value=42):\r\n",
        "    \"\"\"Set seed for reproducibility.\r\n",
        "    \"\"\"\r\n",
        "    random.seed(seed_value)\r\n",
        "    np.random.seed(seed_value)\r\n",
        "    torch.manual_seed(seed_value)\r\n",
        "    torch.cuda.manual_seed_all(seed_value)\r\n",
        "\r\n",
        "def train(model, train_dataloader, val_dataloader=None, epochs=4, evaluation=False):\r\n",
        "    \"\"\"Train the BertClassifier model.\r\n",
        "    \"\"\"\r\n",
        "    # Start training loop\r\n",
        "    print(\"Start training...\\n\")\r\n",
        "    for epoch_i in range(epochs):\r\n",
        "        # =======================================\r\n",
        "        #               Training\r\n",
        "        # =======================================\r\n",
        "        # Print the header of the result table\r\n",
        "        print(f\"{'Epoch':^7} | {'Batch':^7} | {'Train Loss':^12} | {'Val Loss':^10} | {'Val Acc':^9} | {'Elapsed':^9}\")\r\n",
        "        print(\"-\"*70)\r\n",
        "\r\n",
        "        # Measure the elapsed time of each epoch\r\n",
        "        t0_epoch, t0_batch = time.time(), time.time()\r\n",
        "\r\n",
        "        # Reset tracking variables at the beginning of each epoch\r\n",
        "        total_loss, batch_loss, batch_counts = 0, 0, 0\r\n",
        "\r\n",
        "        # Put the model into the training mode\r\n",
        "        model.train()\r\n",
        "\r\n",
        "        # For each batch of training data...\r\n",
        "        for step, batch in enumerate(train_dataloader):\r\n",
        "            batch_counts +=1\r\n",
        "            # Load batch to GPU\r\n",
        "            b_input_ids, b_attn_mask, b_labels = tuple(t.to(device) for t in batch)\r\n",
        "\r\n",
        "            # Zero out any previously calculated gradients\r\n",
        "            model.zero_grad()\r\n",
        "\r\n",
        "            # Perform a forward pass. This will return logits.\r\n",
        "            logits = model(b_input_ids, b_attn_mask)\r\n",
        "\r\n",
        "            # Compute loss and accumulate the loss values\r\n",
        "            loss = loss_fn(logits, b_labels)\r\n",
        "            batch_loss += loss.item()\r\n",
        "            total_loss += loss.item()\r\n",
        "\r\n",
        "            # Perform a backward pass to calculate gradients\r\n",
        "            loss.backward()\r\n",
        "\r\n",
        "            # Clip the norm of the gradients to 1.0 to prevent \"exploding gradients\"\r\n",
        "            torch.nn.utils.clip_grad_norm_(model.parameters(), 1.0)\r\n",
        "\r\n",
        "            # Update parameters and the learning rate\r\n",
        "            optimizer.step()\r\n",
        "            scheduler.step()\r\n",
        "\r\n",
        "            # Print the loss values and time elapsed for every 20 batches\r\n",
        "            if (step % 20 == 0 and step != 0) or (step == len(train_dataloader) - 1):\r\n",
        "                # Calculate time elapsed for 20 batches\r\n",
        "                time_elapsed = time.time() - t0_batch\r\n",
        "\r\n",
        "                # Print training results\r\n",
        "                print(f\"{epoch_i + 1:^7} | {step:^7} | {batch_loss / batch_counts:^12.6f} | {'-':^10} | {'-':^9} | {time_elapsed:^9.2f}\")\r\n",
        "\r\n",
        "                # Reset batch tracking variables\r\n",
        "                batch_loss, batch_counts = 0, 0\r\n",
        "                t0_batch = time.time()\r\n",
        "\r\n",
        "        # Calculate the average loss over the entire training data\r\n",
        "        avg_train_loss = total_loss / len(train_dataloader)\r\n",
        "\r\n",
        "        print(\"-\"*70)\r\n",
        "        # =======================================\r\n",
        "        #               Evaluation\r\n",
        "        # =======================================\r\n",
        "        if evaluation == True:\r\n",
        "            # After the completion of each training epoch, measure the model's performance\r\n",
        "            # on our validation set.\r\n",
        "            val_loss, val_accuracy = evaluate(model, val_dataloader)\r\n",
        "\r\n",
        "            # Print performance over the entire training data\r\n",
        "            time_elapsed = time.time() - t0_epoch\r\n",
        "            \r\n",
        "            print(f\"{epoch_i + 1:^7} | {'-':^7} | {avg_train_loss:^12.6f} | {val_loss:^10.6f} | {val_accuracy:^9.2f} | {time_elapsed:^9.2f}\")\r\n",
        "            print(\"-\"*70)\r\n",
        "        print(\"\\n\")\r\n",
        "    \r\n",
        "    print(\"Training complete!\")\r\n",
        "\r\n",
        "\r\n",
        "def evaluate(model, val_dataloader):\r\n",
        "    \"\"\"After the completion of each training epoch, measure the model's performance\r\n",
        "    on our validation set.\r\n",
        "    \"\"\"\r\n",
        "    # Put the model into the evaluation mode. The dropout layers are disabled during\r\n",
        "    # the test time.\r\n",
        "    model.eval()\r\n",
        "\r\n",
        "    # Tracking variables\r\n",
        "    val_accuracy = []\r\n",
        "    val_loss = []\r\n",
        "\r\n",
        "    # For each batch in our validation set...\r\n",
        "    for batch in val_dataloader:\r\n",
        "        # Load batch to GPU\r\n",
        "        b_input_ids, b_attn_mask, b_labels = tuple(t.to(device) for t in batch)\r\n",
        "\r\n",
        "        # Compute logits\r\n",
        "        with torch.no_grad():\r\n",
        "            logits = model(b_input_ids, b_attn_mask)\r\n",
        "\r\n",
        "        # Compute loss\r\n",
        "        loss = loss_fn(logits, b_labels)\r\n",
        "        val_loss.append(loss.item())\r\n",
        "\r\n",
        "        # Get the predictions\r\n",
        "        preds = torch.argmax(logits, dim=1).flatten()\r\n",
        "\r\n",
        "        # Calculate the accuracy rate\r\n",
        "        accuracy = (preds == b_labels).cpu().numpy().mean() * 100\r\n",
        "        val_accuracy.append(accuracy)\r\n",
        "\r\n",
        "    # Compute the average accuracy and loss over the validation set.\r\n",
        "    val_loss = np.mean(val_loss)\r\n",
        "    val_accuracy = np.mean(val_accuracy)\r\n",
        "\r\n",
        "    return val_loss, val_accuracy"
      ],
      "execution_count": 38,
      "outputs": []
    },
    {
      "cell_type": "code",
      "metadata": {
        "colab": {
          "base_uri": "https://localhost:8080/",
          "height": 1000,
          "referenced_widgets": [
            "bb219ab9e9ea4949bd90ed4682ee8cad",
            "dfaf9659c0984c6e98beb35fcaca37f7",
            "6c22551a80c94c209da941e37b5b8437",
            "8f1327889c7d46c2848b9be5c4b6744f",
            "d94aa8d3c26241249051305a652d1222",
            "af966750612b499dbb46ab6f21a28102",
            "207ab7fabf3a48f5979506cc14a17543",
            "f2d96194481044c4b6ebe7d1cd6f0992",
            "92e1c4f373da47e198c8ddb8267ff53c",
            "7dd6af0bb11d46d680c269962b470768",
            "83554b3343c34c54919f9293d1867b26",
            "873b854431544c86942d502fd51534dd",
            "535c80c478104f6081444b5e945ef4cd",
            "0a292c79ccf64e738ad5844e6601914d",
            "53740c8cf27a4c1283b18a573ce796b9",
            "018c7a8f3a5842f0be110f0ca456f213"
          ]
        },
        "id": "A4gJSkARbYmg",
        "outputId": "289c9b13-6c7c-4a82-dc02-2c076a2b3609"
      },
      "source": [
        "set_seed(42)    # Set seed for reproducibility\r\n",
        "bert_classifier, optimizer, scheduler = initialize_model(epochs=2)\r\n",
        "train(bert_classifier, train_dataloader, val_dataloader, epochs=2, evaluation=True)"
      ],
      "execution_count": 39,
      "outputs": [
        {
          "output_type": "display_data",
          "data": {
            "application/vnd.jupyter.widget-view+json": {
              "model_id": "bb219ab9e9ea4949bd90ed4682ee8cad",
              "version_minor": 0,
              "version_major": 2
            },
            "text/plain": [
              "HBox(children=(FloatProgress(value=0.0, description='Downloading', max=433.0, style=ProgressStyle(description_…"
            ]
          },
          "metadata": {
            "tags": []
          }
        },
        {
          "output_type": "stream",
          "text": [
            "\n"
          ],
          "name": "stdout"
        },
        {
          "output_type": "display_data",
          "data": {
            "application/vnd.jupyter.widget-view+json": {
              "model_id": "92e1c4f373da47e198c8ddb8267ff53c",
              "version_minor": 0,
              "version_major": 2
            },
            "text/plain": [
              "HBox(children=(FloatProgress(value=0.0, description='Downloading', max=440473133.0, style=ProgressStyle(descri…"
            ]
          },
          "metadata": {
            "tags": []
          }
        },
        {
          "output_type": "stream",
          "text": [
            "\n",
            "Start training...\n",
            "\n",
            " Epoch  |  Batch  |  Train Loss  |  Val Loss  |  Val Acc  |  Elapsed \n",
            "----------------------------------------------------------------------\n",
            "   1    |   20    |   0.292490   |     -      |     -     |   14.73  \n",
            "   1    |   40    |   0.236895   |     -      |     -     |   14.24  \n",
            "   1    |   60    |   0.196613   |     -      |     -     |   14.51  \n",
            "   1    |   80    |   0.133839   |     -      |     -     |   14.93  \n",
            "   1    |   100   |   0.122331   |     -      |     -     |   15.35  \n",
            "   1    |   120   |   0.135995   |     -      |     -     |   15.92  \n",
            "   1    |   140   |   0.193494   |     -      |     -     |   16.45  \n",
            "   1    |   160   |   0.120348   |     -      |     -     |   15.90  \n",
            "   1    |   180   |   0.148686   |     -      |     -     |   15.59  \n",
            "   1    |   200   |   0.158256   |     -      |     -     |   15.54  \n",
            "   1    |   220   |   0.152895   |     -      |     -     |   15.86  \n",
            "   1    |   240   |   0.132735   |     -      |     -     |   16.03  \n",
            "   1    |   260   |   0.135775   |     -      |     -     |   16.01  \n",
            "   1    |   280   |   0.163086   |     -      |     -     |   15.82  \n",
            "   1    |   300   |   0.150771   |     -      |     -     |   15.75  \n",
            "   1    |   320   |   0.138220   |     -      |     -     |   15.82  \n",
            "   1    |   340   |   0.113872   |     -      |     -     |   15.95  \n",
            "   1    |   360   |   0.094286   |     -      |     -     |   15.89  \n",
            "   1    |   380   |   0.140814   |     -      |     -     |   15.81  \n",
            "   1    |   400   |   0.095701   |     -      |     -     |   15.83  \n",
            "   1    |   420   |   0.131569   |     -      |     -     |   15.84  \n",
            "   1    |   440   |   0.122110   |     -      |     -     |   15.78  \n",
            "   1    |   460   |   0.146163   |     -      |     -     |   15.87  \n",
            "   1    |   480   |   0.111485   |     -      |     -     |   15.83  \n",
            "   1    |   500   |   0.109314   |     -      |     -     |   15.85  \n",
            "   1    |   520   |   0.103646   |     -      |     -     |   15.84  \n",
            "   1    |   540   |   0.117884   |     -      |     -     |   15.85  \n",
            "   1    |   560   |   0.109509   |     -      |     -     |   15.88  \n",
            "   1    |   580   |   0.100551   |     -      |     -     |   15.88  \n",
            "   1    |   600   |   0.115100   |     -      |     -     |   15.88  \n",
            "   1    |   620   |   0.115472   |     -      |     -     |   15.90  \n",
            "   1    |   640   |   0.099415   |     -      |     -     |   15.90  \n",
            "   1    |   660   |   0.119764   |     -      |     -     |   15.89  \n",
            "   1    |   680   |   0.114177   |     -      |     -     |   15.87  \n",
            "   1    |   700   |   0.135916   |     -      |     -     |   15.90  \n",
            "   1    |   720   |   0.106766   |     -      |     -     |   15.90  \n",
            "   1    |   740   |   0.106870   |     -      |     -     |   15.89  \n",
            "   1    |   760   |   0.092428   |     -      |     -     |   15.88  \n",
            "   1    |   780   |   0.110971   |     -      |     -     |   15.88  \n",
            "   1    |   800   |   0.124832   |     -      |     -     |   15.88  \n",
            "   1    |   820   |   0.114401   |     -      |     -     |   15.91  \n",
            "   1    |   840   |   0.138043   |     -      |     -     |   15.89  \n",
            "   1    |   860   |   0.106247   |     -      |     -     |   15.84  \n",
            "   1    |   880   |   0.110203   |     -      |     -     |   15.87  \n",
            "   1    |   898   |   0.121651   |     -      |     -     |   14.20  \n",
            "----------------------------------------------------------------------\n",
            "   1    |    -    |   0.132237   |  0.093075  |   97.06   |  736.50  \n",
            "----------------------------------------------------------------------\n",
            "\n",
            "\n",
            " Epoch  |  Batch  |  Train Loss  |  Val Loss  |  Val Acc  |  Elapsed \n",
            "----------------------------------------------------------------------\n",
            "   2    |   20    |   0.058142   |     -      |     -     |   16.57  \n",
            "   2    |   40    |   0.069619   |     -      |     -     |   15.82  \n",
            "   2    |   60    |   0.046109   |     -      |     -     |   15.80  \n",
            "   2    |   80    |   0.048703   |     -      |     -     |   15.82  \n",
            "   2    |   100   |   0.041030   |     -      |     -     |   15.79  \n",
            "   2    |   120   |   0.049691   |     -      |     -     |   15.80  \n",
            "   2    |   140   |   0.062366   |     -      |     -     |   15.79  \n",
            "   2    |   160   |   0.060328   |     -      |     -     |   15.81  \n",
            "   2    |   180   |   0.060703   |     -      |     -     |   15.81  \n",
            "   2    |   200   |   0.053264   |     -      |     -     |   15.83  \n",
            "   2    |   220   |   0.058367   |     -      |     -     |   15.80  \n",
            "   2    |   240   |   0.065477   |     -      |     -     |   15.82  \n",
            "   2    |   260   |   0.053210   |     -      |     -     |   15.79  \n",
            "   2    |   280   |   0.052240   |     -      |     -     |   15.81  \n",
            "   2    |   300   |   0.058707   |     -      |     -     |   15.80  \n",
            "   2    |   320   |   0.055134   |     -      |     -     |   15.82  \n",
            "   2    |   340   |   0.040228   |     -      |     -     |   15.84  \n",
            "   2    |   360   |   0.067957   |     -      |     -     |   15.85  \n",
            "   2    |   380   |   0.041032   |     -      |     -     |   15.85  \n",
            "   2    |   400   |   0.051000   |     -      |     -     |   15.81  \n",
            "   2    |   420   |   0.038637   |     -      |     -     |   15.82  \n",
            "   2    |   440   |   0.052450   |     -      |     -     |   15.83  \n",
            "   2    |   460   |   0.057566   |     -      |     -     |   15.87  \n",
            "   2    |   480   |   0.076136   |     -      |     -     |   15.83  \n",
            "   2    |   500   |   0.023841   |     -      |     -     |   15.87  \n",
            "   2    |   520   |   0.037434   |     -      |     -     |   15.83  \n",
            "   2    |   540   |   0.031476   |     -      |     -     |   15.84  \n",
            "   2    |   560   |   0.063351   |     -      |     -     |   15.86  \n",
            "   2    |   580   |   0.044535   |     -      |     -     |   15.84  \n",
            "   2    |   600   |   0.072555   |     -      |     -     |   15.84  \n",
            "   2    |   620   |   0.040435   |     -      |     -     |   15.83  \n",
            "   2    |   640   |   0.059937   |     -      |     -     |   15.86  \n",
            "   2    |   660   |   0.050536   |     -      |     -     |   15.80  \n",
            "   2    |   680   |   0.075050   |     -      |     -     |   15.83  \n",
            "   2    |   700   |   0.049436   |     -      |     -     |   15.82  \n",
            "   2    |   720   |   0.070692   |     -      |     -     |   15.84  \n",
            "   2    |   740   |   0.037874   |     -      |     -     |   15.82  \n",
            "   2    |   760   |   0.024094   |     -      |     -     |   15.80  \n",
            "   2    |   780   |   0.046098   |     -      |     -     |   15.83  \n",
            "   2    |   800   |   0.059199   |     -      |     -     |   15.82  \n",
            "   2    |   820   |   0.047749   |     -      |     -     |   15.83  \n",
            "   2    |   840   |   0.068718   |     -      |     -     |   15.81  \n",
            "   2    |   860   |   0.012994   |     -      |     -     |   15.80  \n",
            "   2    |   880   |   0.065618   |     -      |     -     |   15.78  \n",
            "   2    |   898   |   0.047758   |     -      |     -     |   14.15  \n",
            "----------------------------------------------------------------------\n",
            "   2    |    -    |   0.052183   |  0.101751  |   97.34   |  740.55  \n",
            "----------------------------------------------------------------------\n",
            "\n",
            "\n",
            "Training complete!\n"
          ],
          "name": "stdout"
        }
      ]
    },
    {
      "cell_type": "code",
      "metadata": {
        "id": "EgRii7CVbc4O"
      },
      "source": [
        "import torch.nn.functional as F\r\n",
        "\r\n",
        "def bert_predict(model, test_dataloader):\r\n",
        "    \"\"\"Perform a forward pass on the trained BERT model to predict probabilities\r\n",
        "    on the test set.\r\n",
        "    \"\"\"\r\n",
        "    # Put the model into the evaluation mode. The dropout layers are disabled during\r\n",
        "    # the test time.\r\n",
        "    model.eval()\r\n",
        "\r\n",
        "    all_logits = []\r\n",
        "\r\n",
        "    # For each batch in our test set...\r\n",
        "    for batch in test_dataloader:\r\n",
        "        # Load batch to GPU\r\n",
        "        b_input_ids, b_attn_mask = tuple(t.to(device) for t in batch)[:2]\r\n",
        "\r\n",
        "        # Compute logits\r\n",
        "        with torch.no_grad():\r\n",
        "            logits = model(b_input_ids, b_attn_mask)\r\n",
        "        all_logits.append(logits)\r\n",
        "    \r\n",
        "    # Concatenate logits from each batch\r\n",
        "    all_logits = torch.cat(all_logits, dim=0)\r\n",
        "\r\n",
        "    # Apply softmax to calculate probabilities\r\n",
        "    probs = F.softmax(all_logits, dim=1).cpu().numpy()\r\n",
        "\r\n",
        "    return probs"
      ],
      "execution_count": 40,
      "outputs": []
    },
    {
      "cell_type": "code",
      "metadata": {
        "id": "lJuifmc5jUIG"
      },
      "source": [
        "from sklearn.metrics import accuracy_score, roc_curve, auc\r\n",
        "\r\n",
        "def evaluate_roc(probs, y_true):\r\n",
        "    \"\"\"\r\n",
        "    - Print AUC and accuracy on the test set\r\n",
        "    - Plot ROC\r\n",
        "    @params    probs (np.array): an array of predicted probabilities with shape (len(y_true), 2)\r\n",
        "    @params    y_true (np.array): an array of the true values with shape (len(y_true),)\r\n",
        "    \"\"\"\r\n",
        "    preds = probs[:, 1]\r\n",
        "    fpr, tpr, threshold = roc_curve(y_true, preds)\r\n",
        "    roc_auc = auc(fpr, tpr)\r\n",
        "    print(f'AUC: {roc_auc:.4f}')\r\n",
        "       \r\n",
        "    # Get accuracy over the test set\r\n",
        "    y_pred = np.where(preds >= 0.5, 1, 0)\r\n",
        "    accuracy = accuracy_score(y_true, y_pred)\r\n",
        "    print(f'Accuracy: {accuracy*100:.2f}%')\r\n",
        "    \r\n",
        "    # Plot ROC AUC\r\n",
        "    plt.title('Receiver Operating Characteristic')\r\n",
        "    plt.plot(fpr, tpr, 'b', label = 'AUC = %0.2f' % roc_auc)\r\n",
        "    plt.legend(loc = 'lower right')\r\n",
        "    plt.plot([0, 1], [0, 1],'r--')\r\n",
        "    plt.xlim([0, 1])\r\n",
        "    plt.ylim([0, 1])\r\n",
        "    plt.ylabel('True Positive Rate')\r\n",
        "    plt.xlabel('False Positive Rate')\r\n",
        "    plt.show()"
      ],
      "execution_count": 41,
      "outputs": []
    },
    {
      "cell_type": "code",
      "metadata": {
        "id": "zxABXQLMca18"
      },
      "source": [
        "probs = bert_predict(bert_classifier, val_dataloader)\r\n",
        "\r\n",
        "# Evaluate the Bert classifier\r\n"
      ],
      "execution_count": 42,
      "outputs": []
    },
    {
      "cell_type": "code",
      "metadata": {
        "colab": {
          "base_uri": "https://localhost:8080/",
          "height": 329
        },
        "id": "QqpoJ_r4jY7S",
        "outputId": "8bcd9351-96a0-4d7a-f4d0-7dafd17aacff"
      },
      "source": [
        "evaluate_roc(probs, y_val)"
      ],
      "execution_count": 43,
      "outputs": [
        {
          "output_type": "stream",
          "text": [
            "AUC: 0.9747\n",
            "Accuracy: 97.34%\n"
          ],
          "name": "stdout"
        },
        {
          "output_type": "display_data",
          "data": {
            "image/png": "[encoded data removed]",
            "text/plain": [
              "<Figure size 432x288 with 1 Axes>"
            ]
          },
          "metadata": {
            "tags": [],
            "needs_background": "light"
          }
        }
      ]
    },
    {
      "cell_type": "code",
      "metadata": {
        "colab": {
          "base_uri": "https://localhost:8080/"
        },
        "id": "X4PGcP4Dcb8P",
        "outputId": "1a87e9a3-d35e-4c38-cc61-02d7186bd437"
      },
      "source": [
        "full_train_data = torch.utils.data.ConcatDataset([train_data, val_data])\r\n",
        "full_train_sampler = RandomSampler(full_train_data)\r\n",
        "full_train_dataloader = DataLoader(full_train_data, sampler=full_train_sampler, batch_size=32)\r\n",
        "\r\n",
        "# Train the Bert Classifier on the entire training data\r\n",
        "set_seed(42)\r\n",
        "bert_classifier, optimizer, scheduler = initialize_model(epochs=4)\r\n",
        "train(bert_classifier, full_train_dataloader, epochs=4)"
      ],
      "execution_count": 64,
      "outputs": [
        {
          "output_type": "stream",
          "text": [
            "Start training...\n",
            "\n",
            " Epoch  |  Batch  |  Train Loss  |  Val Loss  |  Val Acc  |  Elapsed \n",
            "----------------------------------------------------------------------\n",
            "   1    |   20    |   0.268088   |     -      |     -     |   17.53  \n",
            "   1    |   40    |   0.225577   |     -      |     -     |   16.48  \n",
            "   1    |   60    |   0.206985   |     -      |     -     |   15.73  \n",
            "   1    |   80    |   0.172178   |     -      |     -     |   15.58  \n",
            "   1    |   100   |   0.144513   |     -      |     -     |   15.75  \n",
            "   1    |   120   |   0.185578   |     -      |     -     |   16.19  \n",
            "   1    |   140   |   0.136740   |     -      |     -     |   16.12  \n",
            "   1    |   160   |   0.148409   |     -      |     -     |   15.85  \n",
            "   1    |   180   |   0.122536   |     -      |     -     |   15.81  \n",
            "   1    |   200   |   0.151320   |     -      |     -     |   15.84  \n",
            "   1    |   220   |   0.131754   |     -      |     -     |   16.00  \n",
            "   1    |   240   |   0.120193   |     -      |     -     |   15.95  \n",
            "   1    |   260   |   0.155917   |     -      |     -     |   15.90  \n",
            "   1    |   280   |   0.148574   |     -      |     -     |   15.84  \n",
            "   1    |   300   |   0.130574   |     -      |     -     |   15.83  \n",
            "   1    |   320   |   0.107584   |     -      |     -     |   15.87  \n",
            "   1    |   340   |   0.095015   |     -      |     -     |   15.87  \n",
            "   1    |   360   |   0.099391   |     -      |     -     |   15.85  \n",
            "   1    |   380   |   0.136328   |     -      |     -     |   15.93  \n",
            "   1    |   400   |   0.115636   |     -      |     -     |   15.90  \n",
            "   1    |   420   |   0.093485   |     -      |     -     |   15.92  \n",
            "   1    |   440   |   0.111455   |     -      |     -     |   15.94  \n",
            "   1    |   460   |   0.143102   |     -      |     -     |   15.94  \n",
            "   1    |   480   |   0.114318   |     -      |     -     |   15.88  \n",
            "   1    |   500   |   0.121592   |     -      |     -     |   15.91  \n",
            "   1    |   520   |   0.094728   |     -      |     -     |   15.88  \n",
            "   1    |   540   |   0.151386   |     -      |     -     |   15.87  \n",
            "   1    |   560   |   0.109578   |     -      |     -     |   15.87  \n",
            "   1    |   580   |   0.109920   |     -      |     -     |   15.87  \n",
            "   1    |   600   |   0.132351   |     -      |     -     |   15.88  \n",
            "   1    |   620   |   0.131651   |     -      |     -     |   15.85  \n",
            "   1    |   640   |   0.100789   |     -      |     -     |   15.84  \n",
            "   1    |   660   |   0.128793   |     -      |     -     |   15.84  \n",
            "   1    |   680   |   0.131221   |     -      |     -     |   15.85  \n",
            "   1    |   700   |   0.145138   |     -      |     -     |   15.85  \n",
            "   1    |   720   |   0.091277   |     -      |     -     |   15.81  \n",
            "   1    |   740   |   0.085952   |     -      |     -     |   15.83  \n",
            "   1    |   760   |   0.109463   |     -      |     -     |   15.83  \n",
            "   1    |   780   |   0.091370   |     -      |     -     |   15.86  \n",
            "   1    |   800   |   0.086984   |     -      |     -     |   15.84  \n",
            "   1    |   820   |   0.103927   |     -      |     -     |   15.86  \n",
            "   1    |   840   |   0.131094   |     -      |     -     |   15.87  \n",
            "   1    |   860   |   0.086810   |     -      |     -     |   15.87  \n",
            "   1    |   880   |   0.103593   |     -      |     -     |   15.88  \n",
            "   1    |   900   |   0.097769   |     -      |     -     |   15.87  \n",
            "   1    |   920   |   0.116665   |     -      |     -     |   15.86  \n",
            "   1    |   940   |   0.130988   |     -      |     -     |   15.85  \n",
            "   1    |   960   |   0.098699   |     -      |     -     |   15.81  \n",
            "   1    |   980   |   0.078066   |     -      |     -     |   15.79  \n",
            "   1    |   998   |   0.120492   |     -      |     -     |   14.11  \n",
            "----------------------------------------------------------------------\n",
            "\n",
            "\n",
            " Epoch  |  Batch  |  Train Loss  |  Val Loss  |  Val Acc  |  Elapsed \n",
            "----------------------------------------------------------------------\n",
            "   2    |   20    |   0.080372   |     -      |     -     |   16.61  \n",
            "   2    |   40    |   0.075888   |     -      |     -     |   15.84  \n",
            "   2    |   60    |   0.040037   |     -      |     -     |   15.81  \n",
            "   2    |   80    |   0.038181   |     -      |     -     |   15.88  \n",
            "   2    |   100   |   0.025112   |     -      |     -     |   15.81  \n",
            "   2    |   120   |   0.055315   |     -      |     -     |   15.82  \n",
            "   2    |   140   |   0.063045   |     -      |     -     |   15.82  \n",
            "   2    |   160   |   0.051633   |     -      |     -     |   15.83  \n",
            "   2    |   180   |   0.047989   |     -      |     -     |   15.82  \n",
            "   2    |   200   |   0.040201   |     -      |     -     |   15.82  \n",
            "   2    |   220   |   0.063878   |     -      |     -     |   15.80  \n",
            "   2    |   240   |   0.028890   |     -      |     -     |   15.79  \n",
            "   2    |   260   |   0.036653   |     -      |     -     |   15.80  \n",
            "   2    |   280   |   0.055162   |     -      |     -     |   15.82  \n",
            "   2    |   300   |   0.041226   |     -      |     -     |   15.84  \n",
            "   2    |   320   |   0.053600   |     -      |     -     |   15.82  \n",
            "   2    |   340   |   0.100150   |     -      |     -     |   15.84  \n",
            "   2    |   360   |   0.036714   |     -      |     -     |   15.87  \n",
            "   2    |   380   |   0.060967   |     -      |     -     |   15.90  \n",
            "   2    |   400   |   0.062101   |     -      |     -     |   15.86  \n",
            "   2    |   420   |   0.052918   |     -      |     -     |   15.87  \n",
            "   2    |   440   |   0.017771   |     -      |     -     |   15.82  \n",
            "   2    |   460   |   0.043602   |     -      |     -     |   15.81  \n",
            "   2    |   480   |   0.043346   |     -      |     -     |   15.81  \n",
            "   2    |   500   |   0.038452   |     -      |     -     |   15.81  \n",
            "   2    |   520   |   0.054448   |     -      |     -     |   15.81  \n",
            "   2    |   540   |   0.070774   |     -      |     -     |   15.82  \n",
            "   2    |   560   |   0.074805   |     -      |     -     |   15.86  \n",
            "   2    |   580   |   0.051884   |     -      |     -     |   15.86  \n",
            "   2    |   600   |   0.050224   |     -      |     -     |   15.85  \n",
            "   2    |   620   |   0.069692   |     -      |     -     |   15.84  \n",
            "   2    |   640   |   0.058019   |     -      |     -     |   15.87  \n",
            "   2    |   660   |   0.028981   |     -      |     -     |   15.87  \n",
            "   2    |   680   |   0.073886   |     -      |     -     |   15.88  \n",
            "   2    |   700   |   0.033523   |     -      |     -     |   15.82  \n",
            "   2    |   720   |   0.066264   |     -      |     -     |   15.78  \n",
            "   2    |   740   |   0.060458   |     -      |     -     |   15.84  \n",
            "   2    |   760   |   0.042958   |     -      |     -     |   15.93  \n",
            "   2    |   780   |   0.037727   |     -      |     -     |   15.95  \n",
            "   2    |   800   |   0.059946   |     -      |     -     |   15.84  \n",
            "   2    |   820   |   0.058545   |     -      |     -     |   15.79  \n",
            "   2    |   840   |   0.034908   |     -      |     -     |   15.77  \n",
            "   2    |   860   |   0.040868   |     -      |     -     |   15.86  \n",
            "   2    |   880   |   0.054391   |     -      |     -     |   15.87  \n",
            "   2    |   900   |   0.036119   |     -      |     -     |   15.89  \n",
            "   2    |   920   |   0.043762   |     -      |     -     |   15.90  \n",
            "   2    |   940   |   0.042171   |     -      |     -     |   15.91  \n",
            "   2    |   960   |   0.066912   |     -      |     -     |   15.92  \n",
            "   2    |   980   |   0.043454   |     -      |     -     |   15.91  \n",
            "   2    |   998   |   0.052356   |     -      |     -     |   14.19  \n",
            "----------------------------------------------------------------------\n",
            "\n",
            "\n",
            " Epoch  |  Batch  |  Train Loss  |  Val Loss  |  Val Acc  |  Elapsed \n",
            "----------------------------------------------------------------------\n",
            "   3    |   20    |   0.029524   |     -      |     -     |   16.65  \n",
            "   3    |   40    |   0.009216   |     -      |     -     |   15.82  \n",
            "   3    |   60    |   0.021238   |     -      |     -     |   15.80  \n",
            "   3    |   80    |   0.023107   |     -      |     -     |   15.81  \n",
            "   3    |   100   |   0.014777   |     -      |     -     |   15.77  \n",
            "   3    |   120   |   0.031841   |     -      |     -     |   15.77  \n",
            "   3    |   140   |   0.005698   |     -      |     -     |   15.79  \n",
            "   3    |   160   |   0.009755   |     -      |     -     |   15.78  \n",
            "   3    |   180   |   0.023129   |     -      |     -     |   15.78  \n",
            "   3    |   200   |   0.010102   |     -      |     -     |   15.78  \n",
            "   3    |   220   |   0.010077   |     -      |     -     |   15.80  \n",
            "   3    |   240   |   0.014191   |     -      |     -     |   15.80  \n",
            "   3    |   260   |   0.002999   |     -      |     -     |   15.81  \n",
            "   3    |   280   |   0.030452   |     -      |     -     |   15.81  \n",
            "   3    |   300   |   0.010341   |     -      |     -     |   15.80  \n",
            "   3    |   320   |   0.015316   |     -      |     -     |   15.80  \n",
            "   3    |   340   |   0.033522   |     -      |     -     |   15.82  \n",
            "   3    |   360   |   0.017851   |     -      |     -     |   15.83  \n",
            "   3    |   380   |   0.013279   |     -      |     -     |   15.84  \n",
            "   3    |   400   |   0.004357   |     -      |     -     |   15.82  \n",
            "   3    |   420   |   0.002486   |     -      |     -     |   15.81  \n",
            "   3    |   440   |   0.007928   |     -      |     -     |   15.85  \n",
            "   3    |   460   |   0.018167   |     -      |     -     |   15.83  \n",
            "   3    |   480   |   0.005071   |     -      |     -     |   15.83  \n",
            "   3    |   500   |   0.022300   |     -      |     -     |   15.82  \n",
            "   3    |   520   |   0.021893   |     -      |     -     |   15.85  \n",
            "   3    |   540   |   0.029073   |     -      |     -     |   15.80  \n",
            "   3    |   560   |   0.004537   |     -      |     -     |   15.85  \n",
            "   3    |   580   |   0.014473   |     -      |     -     |   15.81  \n",
            "   3    |   600   |   0.023262   |     -      |     -     |   15.81  \n",
            "   3    |   620   |   0.008212   |     -      |     -     |   15.80  \n",
            "   3    |   640   |   0.001308   |     -      |     -     |   15.83  \n",
            "   3    |   660   |   0.007530   |     -      |     -     |   15.83  \n",
            "   3    |   680   |   0.001146   |     -      |     -     |   15.84  \n",
            "   3    |   700   |   0.021087   |     -      |     -     |   15.85  \n",
            "   3    |   720   |   0.020862   |     -      |     -     |   15.87  \n",
            "   3    |   740   |   0.002380   |     -      |     -     |   15.86  \n",
            "   3    |   760   |   0.005074   |     -      |     -     |   15.83  \n",
            "   3    |   780   |   0.005102   |     -      |     -     |   15.87  \n",
            "   3    |   800   |   0.004675   |     -      |     -     |   15.84  \n",
            "   3    |   820   |   0.011351   |     -      |     -     |   15.82  \n",
            "   3    |   840   |   0.020943   |     -      |     -     |   15.82  \n",
            "   3    |   860   |   0.011194   |     -      |     -     |   15.83  \n",
            "   3    |   880   |   0.022573   |     -      |     -     |   15.84  \n",
            "   3    |   900   |   0.024344   |     -      |     -     |   15.82  \n",
            "   3    |   920   |   0.002235   |     -      |     -     |   15.83  \n",
            "   3    |   940   |   0.014517   |     -      |     -     |   15.86  \n",
            "   3    |   960   |   0.019119   |     -      |     -     |   15.81  \n",
            "   3    |   980   |   0.031683   |     -      |     -     |   15.78  \n",
            "   3    |   998   |   0.018342   |     -      |     -     |   14.07  \n",
            "----------------------------------------------------------------------\n",
            "\n",
            "\n",
            " Epoch  |  Batch  |  Train Loss  |  Val Loss  |  Val Acc  |  Elapsed \n",
            "----------------------------------------------------------------------\n",
            "   4    |   20    |   0.007309   |     -      |     -     |   16.52  \n",
            "   4    |   40    |   0.000917   |     -      |     -     |   15.81  \n",
            "   4    |   60    |   0.000756   |     -      |     -     |   15.81  \n",
            "   4    |   80    |   0.000724   |     -      |     -     |   15.80  \n",
            "   4    |   100   |   0.001720   |     -      |     -     |   15.82  \n",
            "   4    |   120   |   0.000879   |     -      |     -     |   15.82  \n",
            "   4    |   140   |   0.010544   |     -      |     -     |   15.81  \n",
            "   4    |   160   |   0.003633   |     -      |     -     |   15.85  \n",
            "   4    |   180   |   0.000769   |     -      |     -     |   15.81  \n",
            "   4    |   200   |   0.001162   |     -      |     -     |   15.81  \n",
            "   4    |   220   |   0.000696   |     -      |     -     |   15.84  \n",
            "   4    |   240   |   0.000871   |     -      |     -     |   15.83  \n",
            "   4    |   260   |   0.012689   |     -      |     -     |   15.83  \n",
            "   4    |   280   |   0.009661   |     -      |     -     |   15.81  \n",
            "   4    |   300   |   0.000599   |     -      |     -     |   15.81  \n",
            "   4    |   320   |   0.009591   |     -      |     -     |   15.78  \n",
            "   4    |   340   |   0.010137   |     -      |     -     |   15.77  \n",
            "   4    |   360   |   0.000655   |     -      |     -     |   15.80  \n",
            "   4    |   380   |   0.002835   |     -      |     -     |   15.82  \n",
            "   4    |   400   |   0.003371   |     -      |     -     |   15.84  \n",
            "   4    |   420   |   0.000596   |     -      |     -     |   15.84  \n",
            "   4    |   440   |   0.000738   |     -      |     -     |   15.81  \n",
            "   4    |   460   |   0.001540   |     -      |     -     |   15.82  \n",
            "   4    |   480   |   0.000693   |     -      |     -     |   15.80  \n",
            "   4    |   500   |   0.009868   |     -      |     -     |   15.83  \n",
            "   4    |   520   |   0.013292   |     -      |     -     |   15.80  \n",
            "   4    |   540   |   0.000626   |     -      |     -     |   15.80  \n",
            "   4    |   560   |   0.008634   |     -      |     -     |   15.78  \n",
            "   4    |   580   |   0.003658   |     -      |     -     |   15.78  \n",
            "   4    |   600   |   0.000909   |     -      |     -     |   15.79  \n",
            "   4    |   620   |   0.011054   |     -      |     -     |   15.81  \n",
            "   4    |   640   |   0.013701   |     -      |     -     |   15.81  \n",
            "   4    |   660   |   0.000700   |     -      |     -     |   15.81  \n",
            "   4    |   680   |   0.002108   |     -      |     -     |   15.80  \n",
            "   4    |   700   |   0.000622   |     -      |     -     |   15.82  \n",
            "   4    |   720   |   0.000927   |     -      |     -     |   15.85  \n",
            "   4    |   740   |   0.013190   |     -      |     -     |   15.85  \n",
            "   4    |   760   |   0.000665   |     -      |     -     |   15.81  \n",
            "   4    |   780   |   0.000597   |     -      |     -     |   15.78  \n",
            "   4    |   800   |   0.000612   |     -      |     -     |   15.78  \n",
            "   4    |   820   |   0.000641   |     -      |     -     |   15.76  \n",
            "   4    |   840   |   0.000659   |     -      |     -     |   15.77  \n",
            "   4    |   860   |   0.000693   |     -      |     -     |   15.79  \n",
            "   4    |   880   |   0.000623   |     -      |     -     |   15.79  \n",
            "   4    |   900   |   0.000676   |     -      |     -     |   15.82  \n",
            "   4    |   920   |   0.000630   |     -      |     -     |   15.83  \n",
            "   4    |   940   |   0.002437   |     -      |     -     |   15.86  \n",
            "   4    |   960   |   0.000705   |     -      |     -     |   15.84  \n",
            "   4    |   980   |   0.000803   |     -      |     -     |   15.84  \n",
            "   4    |   998   |   0.000648   |     -      |     -     |   14.14  \n",
            "----------------------------------------------------------------------\n",
            "\n",
            "\n",
            "Training complete!\n"
          ],
          "name": "stdout"
        }
      ]
    },
    {
      "cell_type": "code",
      "metadata": {
        "colab": {
          "base_uri": "https://localhost:8080/"
        },
        "id": "dUb49o3vjc7R",
        "outputId": "50368067-a3be-472b-cbc8-5c64f34cecf1"
      },
      "source": [
        "print('Tokenizing data...')\r\n",
        "test_inputs, test_masks = preprocessing_for_bert(df_test.tweet)\r\n",
        "\r\n",
        "# Create the DataLoader for our test set\r\n",
        "test_dataset = TensorDataset(test_inputs, test_masks)\r\n",
        "test_sampler = SequentialSampler(test_dataset)\r\n",
        "test_dataloader = DataLoader(test_dataset, sampler=test_sampler, batch_size=32)"
      ],
      "execution_count": 65,
      "outputs": [
        {
          "output_type": "stream",
          "text": [
            "Tokenizing data...\n"
          ],
          "name": "stdout"
        },
        {
          "output_type": "stream",
          "text": [
            "/usr/local/lib/python3.6/dist-packages/transformers/tokenization_utils_base.py:2143: FutureWarning: The `pad_to_max_length` argument is deprecated and will be removed in a future version, use `padding=True` or `padding='longest'` to pad to the longest sequence in the batch, or use `padding='max_length'` to pad to a max length. In this case, you can give a specific length with `max_length` (e.g. `max_length=45`) or leave max_length to None to pad to the maximal input size of the model (e.g. 512 for Bert).\n",
            "  FutureWarning,\n"
          ],
          "name": "stderr"
        }
      ]
    },
    {
      "cell_type": "code",
      "metadata": {
        "colab": {
          "base_uri": "https://localhost:8080/"
        },
        "id": "Lu65cy7kjqhM",
        "outputId": "0a020233-cd92-4b27-a2ba-216bb0f70002"
      },
      "source": [
        "probs = bert_predict(bert_classifier, test_dataloader)\r\n",
        "\r\n",
        "# Get predictions from the probabilities\r\n",
        "threshold = 0.9\r\n",
        "preds = np.where(probs[:, 1] > threshold, 1, 0)\r\n",
        "\r\n",
        "# Number of tweets predicted racist\r\n",
        "print(\"Number of tweets predicted racist: \", preds.sum())"
      ],
      "execution_count": 66,
      "outputs": [
        {
          "output_type": "stream",
          "text": [
            "Number of tweets predicted racist:  1075\n"
          ],
          "name": "stdout"
        }
      ]
    },
    {
      "cell_type": "code",
      "metadata": {
        "id": "BRYncr29RZ4X"
      },
      "source": [
        "# import os"
      ],
      "execution_count": 48,
      "outputs": []
    },
    {
      "cell_type": "code",
      "metadata": {
        "id": "rpuTsolCEm1h"
      },
      "source": [
        "# os.mkdir('/content/model')"
      ],
      "execution_count": 49,
      "outputs": []
    },
    {
      "cell_type": "code",
      "metadata": {
        "id": "8ViopNL1Ep7D"
      },
      "source": [
        "# torch.save(bert_classifier.state_dict(), './model_save')"
      ],
      "execution_count": 50,
      "outputs": []
    },
    {
      "cell_type": "code",
      "metadata": {
        "colab": {
          "base_uri": "https://localhost:8080/"
        },
        "id": "4BdD5laWqS2G",
        "outputId": "e89b036c-0aff-46cb-d981-de119cf94090"
      },
      "source": [
        "preds"
      ],
      "execution_count": 67,
      "outputs": [
        {
          "output_type": "execute_result",
          "data": {
            "text/plain": [
              "array([0, 1, 0, ..., 0, 0, 0])"
            ]
          },
          "metadata": {
            "tags": []
          },
          "execution_count": 67
        }
      ]
    },
    {
      "cell_type": "code",
      "metadata": {
        "id": "mmdt-bd7t-9B"
      },
      "source": [
        "df_test['label'] = preds"
      ],
      "execution_count": 68,
      "outputs": []
    },
    {
      "cell_type": "code",
      "metadata": {
        "id": "RI-_eVILxNSR"
      },
      "source": [
        "new_Sub = df_test.set_index('id')"
      ],
      "execution_count": 69,
      "outputs": []
    },
    {
      "cell_type": "code",
      "metadata": {
        "id": "_QlkiD0BxVM8"
      },
      "source": [
        "new_Sub.drop('tweet',axis=1,inplace=True)"
      ],
      "execution_count": 70,
      "outputs": []
    },
    {
      "cell_type": "code",
      "metadata": {
        "id": "AuZtGs2yuEpr"
      },
      "source": [
        "new_Sub.to_csv('prediction.csv')"
      ],
      "execution_count": 71,
      "outputs": []
    },
    {
      "cell_type": "code",
      "metadata": {
        "id": "LXEtmE-iqLFG",
        "colab": {
          "base_uri": "https://localhost:8080/",
          "height": 246
        },
        "outputId": "3d16fa8d-bba0-446e-f609-3c0a8c58202d"
      },
      "source": [
        "# import os\r\n",
        "\r\n",
        "# # Saving best-practices: if you use defaults names for the model, you can reload it using from_pretrained()\r\n",
        "\r\n",
        "# output_dir = './model_save/'\r\n",
        "\r\n",
        "# # Create output directory if needed\r\n",
        "# if not os.path.exists(output_dir):\r\n",
        "#     os.makedirs(output_dir)\r\n",
        "\r\n",
        "# print(\"Saving model to %s\" % output_dir)\r\n",
        "\r\n",
        "# # Save a trained model, configuration and tokenizer using `save_pretrained()`.\r\n",
        "# # They can then be reloaded using `from_pretrained()`\r\n",
        "# model_to_save = model.module if hasattr(model, 'module') else model  # Take care of distributed/parallel training\r\n",
        "# model_to_save.save_pretrained(output_dir)\r\n",
        "# tokenizer.save_pretrained(output_dir)\r\n",
        "\r\n",
        "# # Good practice: save your training arguments together with the trained model\r\n",
        "# torch.save(args, os.path.join(output_dir, 'training_args.bin'))\r\n"
      ],
      "execution_count": 47,
      "outputs": [
        {
          "output_type": "stream",
          "text": [
            "Saving model to ./model_save/\n"
          ],
          "name": "stdout"
        },
        {
          "output_type": "error",
          "ename": "NameError",
          "evalue": "ignored",
          "traceback": [
            "\u001b[0;31m---------------------------------------------------------------------------\u001b[0m",
            "\u001b[0;31mNameError\u001b[0m                                 Traceback (most recent call last)",
            "\u001b[0;32m<ipython-input-47-b10598c39407>\u001b[0m in \u001b[0;36m<module>\u001b[0;34m()\u001b[0m\n\u001b[1;32m     13\u001b[0m \u001b[0;31m# Save a trained model, configuration and tokenizer using `save_pretrained()`.\u001b[0m\u001b[0;34m\u001b[0m\u001b[0;34m\u001b[0m\u001b[0;34m\u001b[0m\u001b[0m\n\u001b[1;32m     14\u001b[0m \u001b[0;31m# They can then be reloaded using `from_pretrained()`\u001b[0m\u001b[0;34m\u001b[0m\u001b[0;34m\u001b[0m\u001b[0;34m\u001b[0m\u001b[0m\n\u001b[0;32m---> 15\u001b[0;31m \u001b[0mmodel_to_save\u001b[0m \u001b[0;34m=\u001b[0m \u001b[0mmodel\u001b[0m\u001b[0;34m.\u001b[0m\u001b[0mmodule\u001b[0m \u001b[0;32mif\u001b[0m \u001b[0mhasattr\u001b[0m\u001b[0;34m(\u001b[0m\u001b[0mmodel\u001b[0m\u001b[0;34m,\u001b[0m \u001b[0;34m'module'\u001b[0m\u001b[0;34m)\u001b[0m \u001b[0;32melse\u001b[0m \u001b[0mmodel\u001b[0m  \u001b[0;31m# Take care of distributed/parallel training\u001b[0m\u001b[0;34m\u001b[0m\u001b[0;34m\u001b[0m\u001b[0m\n\u001b[0m\u001b[1;32m     16\u001b[0m \u001b[0mmodel_to_save\u001b[0m\u001b[0;34m.\u001b[0m\u001b[0msave_pretrained\u001b[0m\u001b[0;34m(\u001b[0m\u001b[0moutput_dir\u001b[0m\u001b[0;34m)\u001b[0m\u001b[0;34m\u001b[0m\u001b[0;34m\u001b[0m\u001b[0m\n\u001b[1;32m     17\u001b[0m \u001b[0mtokenizer\u001b[0m\u001b[0;34m.\u001b[0m\u001b[0msave_pretrained\u001b[0m\u001b[0;34m(\u001b[0m\u001b[0moutput_dir\u001b[0m\u001b[0;34m)\u001b[0m\u001b[0;34m\u001b[0m\u001b[0;34m\u001b[0m\u001b[0m\n",
            "\u001b[0;31mNameError\u001b[0m: name 'model' is not defined"
          ]
        }
      ]
    },
    {
      "cell_type": "code",
      "metadata": {
        "id": "rPDfiWaiBqJW"
      },
      "source": [
        ""
      ],
      "execution_count": null,
      "outputs": []
    }
  ]
}